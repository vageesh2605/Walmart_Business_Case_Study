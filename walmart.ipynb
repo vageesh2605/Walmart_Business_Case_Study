{
  "nbformat": 4,
  "nbformat_minor": 0,
  "metadata": {
    "colab": {
      "provenance": []
    },
    "kernelspec": {
      "name": "python3",
      "display_name": "Python 3"
    },
    "language_info": {
      "name": "python"
    }
  },
  "cells": [
    {
      "cell_type": "markdown",
      "source": [
        "# Business Case: Walmart - Confidence Interval and CLT\n",
        "\n",
        "\n"
      ],
      "metadata": {
        "id": "AomJPsw2vAGs"
      }
    },
    {
      "cell_type": "markdown",
      "source": [
        "### About Walmart\n",
        "Walmart is an American multinational retail corporation that operates a chain of supercenters, discount departmental stores, and grocery stores from the United States. Walmart has more than 100 million customers worldwide."
      ],
      "metadata": {
        "id": "f_PLFCp1vk6a"
      }
    },
    {
      "cell_type": "markdown",
      "source": [
        "Python Libraries"
      ],
      "metadata": {
        "id": "bCWjH6mJuhrq"
      }
    },
    {
      "cell_type": "code",
      "source": [
        "import numpy as np\n",
        "import pandas as pd\n",
        "import matplotlib.pyplot as plt\n",
        "import seaborn as sns\n",
        "from scipy import stats"
      ],
      "metadata": {
        "id": "ThMnVgs1vkjm"
      },
      "execution_count": null,
      "outputs": []
    },
    {
      "cell_type": "markdown",
      "source": [
        "### STEP 1:- IMPORT AND EXPLORING THE DATA"
      ],
      "metadata": {
        "id": "pDrdcKEHwQ-_"
      }
    },
    {
      "cell_type": "code",
      "execution_count": null,
      "metadata": {
        "id": "kiHKu3dbNk_4"
      },
      "outputs": [],
      "source": [
        "# Reading the data set\n",
        "\n",
        "df = pd.read_csv(\"https://d2beiqkhq929f0.cloudfront.net/public_assets/assets/000/001/293/original/walmart_data.csv?1641285094\")"
      ]
    },
    {
      "cell_type": "code",
      "source": [
        "# Glimpse of data\n",
        "\n",
        "df.head()"
      ],
      "metadata": {
        "colab": {
          "base_uri": "https://localhost:8080/",
          "height": 206
        },
        "id": "mxwCrJ41wB3Z",
        "outputId": "5798a4de-6194-4489-bfff-5e66547c3ede"
      },
      "execution_count": null,
      "outputs": [
        {
          "output_type": "execute_result",
          "data": {
            "text/plain": [
              "   User_ID Product_ID Gender   Age  Occupation City_Category  \\\n",
              "0  1000001  P00069042      F  0-17          10             A   \n",
              "1  1000001  P00248942      F  0-17          10             A   \n",
              "2  1000001  P00087842      F  0-17          10             A   \n",
              "3  1000001  P00085442      F  0-17          10             A   \n",
              "4  1000002  P00285442      M   55+          16             C   \n",
              "\n",
              "  Stay_In_Current_City_Years  Marital_Status  Product_Category  Purchase  \n",
              "0                          2               0                 3      8370  \n",
              "1                          2               0                 1     15200  \n",
              "2                          2               0                12      1422  \n",
              "3                          2               0                12      1057  \n",
              "4                         4+               0                 8      7969  "
            ],
            "text/html": [
              "\n",
              "  <div id=\"df-e9c73ec1-38e7-413a-bc44-437d22271721\" class=\"colab-df-container\">\n",
              "    <div>\n",
              "<style scoped>\n",
              "    .dataframe tbody tr th:only-of-type {\n",
              "        vertical-align: middle;\n",
              "    }\n",
              "\n",
              "    .dataframe tbody tr th {\n",
              "        vertical-align: top;\n",
              "    }\n",
              "\n",
              "    .dataframe thead th {\n",
              "        text-align: right;\n",
              "    }\n",
              "</style>\n",
              "<table border=\"1\" class=\"dataframe\">\n",
              "  <thead>\n",
              "    <tr style=\"text-align: right;\">\n",
              "      <th></th>\n",
              "      <th>User_ID</th>\n",
              "      <th>Product_ID</th>\n",
              "      <th>Gender</th>\n",
              "      <th>Age</th>\n",
              "      <th>Occupation</th>\n",
              "      <th>City_Category</th>\n",
              "      <th>Stay_In_Current_City_Years</th>\n",
              "      <th>Marital_Status</th>\n",
              "      <th>Product_Category</th>\n",
              "      <th>Purchase</th>\n",
              "    </tr>\n",
              "  </thead>\n",
              "  <tbody>\n",
              "    <tr>\n",
              "      <th>0</th>\n",
              "      <td>1000001</td>\n",
              "      <td>P00069042</td>\n",
              "      <td>F</td>\n",
              "      <td>0-17</td>\n",
              "      <td>10</td>\n",
              "      <td>A</td>\n",
              "      <td>2</td>\n",
              "      <td>0</td>\n",
              "      <td>3</td>\n",
              "      <td>8370</td>\n",
              "    </tr>\n",
              "    <tr>\n",
              "      <th>1</th>\n",
              "      <td>1000001</td>\n",
              "      <td>P00248942</td>\n",
              "      <td>F</td>\n",
              "      <td>0-17</td>\n",
              "      <td>10</td>\n",
              "      <td>A</td>\n",
              "      <td>2</td>\n",
              "      <td>0</td>\n",
              "      <td>1</td>\n",
              "      <td>15200</td>\n",
              "    </tr>\n",
              "    <tr>\n",
              "      <th>2</th>\n",
              "      <td>1000001</td>\n",
              "      <td>P00087842</td>\n",
              "      <td>F</td>\n",
              "      <td>0-17</td>\n",
              "      <td>10</td>\n",
              "      <td>A</td>\n",
              "      <td>2</td>\n",
              "      <td>0</td>\n",
              "      <td>12</td>\n",
              "      <td>1422</td>\n",
              "    </tr>\n",
              "    <tr>\n",
              "      <th>3</th>\n",
              "      <td>1000001</td>\n",
              "      <td>P00085442</td>\n",
              "      <td>F</td>\n",
              "      <td>0-17</td>\n",
              "      <td>10</td>\n",
              "      <td>A</td>\n",
              "      <td>2</td>\n",
              "      <td>0</td>\n",
              "      <td>12</td>\n",
              "      <td>1057</td>\n",
              "    </tr>\n",
              "    <tr>\n",
              "      <th>4</th>\n",
              "      <td>1000002</td>\n",
              "      <td>P00285442</td>\n",
              "      <td>M</td>\n",
              "      <td>55+</td>\n",
              "      <td>16</td>\n",
              "      <td>C</td>\n",
              "      <td>4+</td>\n",
              "      <td>0</td>\n",
              "      <td>8</td>\n",
              "      <td>7969</td>\n",
              "    </tr>\n",
              "  </tbody>\n",
              "</table>\n",
              "</div>\n",
              "    <div class=\"colab-df-buttons\">\n",
              "\n",
              "  <div class=\"colab-df-container\">\n",
              "    <button class=\"colab-df-convert\" onclick=\"convertToInteractive('df-e9c73ec1-38e7-413a-bc44-437d22271721')\"\n",
              "            title=\"Convert this dataframe to an interactive table.\"\n",
              "            style=\"display:none;\">\n",
              "\n",
              "  <svg xmlns=\"http://www.w3.org/2000/svg\" height=\"24px\" viewBox=\"0 -960 960 960\">\n",
              "    <path d=\"M120-120v-720h720v720H120Zm60-500h600v-160H180v160Zm220 220h160v-160H400v160Zm0 220h160v-160H400v160ZM180-400h160v-160H180v160Zm440 0h160v-160H620v160ZM180-180h160v-160H180v160Zm440 0h160v-160H620v160Z\"/>\n",
              "  </svg>\n",
              "    </button>\n",
              "\n",
              "  <style>\n",
              "    .colab-df-container {\n",
              "      display:flex;\n",
              "      gap: 12px;\n",
              "    }\n",
              "\n",
              "    .colab-df-convert {\n",
              "      background-color: #E8F0FE;\n",
              "      border: none;\n",
              "      border-radius: 50%;\n",
              "      cursor: pointer;\n",
              "      display: none;\n",
              "      fill: #1967D2;\n",
              "      height: 32px;\n",
              "      padding: 0 0 0 0;\n",
              "      width: 32px;\n",
              "    }\n",
              "\n",
              "    .colab-df-convert:hover {\n",
              "      background-color: #E2EBFA;\n",
              "      box-shadow: 0px 1px 2px rgba(60, 64, 67, 0.3), 0px 1px 3px 1px rgba(60, 64, 67, 0.15);\n",
              "      fill: #174EA6;\n",
              "    }\n",
              "\n",
              "    .colab-df-buttons div {\n",
              "      margin-bottom: 4px;\n",
              "    }\n",
              "\n",
              "    [theme=dark] .colab-df-convert {\n",
              "      background-color: #3B4455;\n",
              "      fill: #D2E3FC;\n",
              "    }\n",
              "\n",
              "    [theme=dark] .colab-df-convert:hover {\n",
              "      background-color: #434B5C;\n",
              "      box-shadow: 0px 1px 3px 1px rgba(0, 0, 0, 0.15);\n",
              "      filter: drop-shadow(0px 1px 2px rgba(0, 0, 0, 0.3));\n",
              "      fill: #FFFFFF;\n",
              "    }\n",
              "  </style>\n",
              "\n",
              "    <script>\n",
              "      const buttonEl =\n",
              "        document.querySelector('#df-e9c73ec1-38e7-413a-bc44-437d22271721 button.colab-df-convert');\n",
              "      buttonEl.style.display =\n",
              "        google.colab.kernel.accessAllowed ? 'block' : 'none';\n",
              "\n",
              "      async function convertToInteractive(key) {\n",
              "        const element = document.querySelector('#df-e9c73ec1-38e7-413a-bc44-437d22271721');\n",
              "        const dataTable =\n",
              "          await google.colab.kernel.invokeFunction('convertToInteractive',\n",
              "                                                    [key], {});\n",
              "        if (!dataTable) return;\n",
              "\n",
              "        const docLinkHtml = 'Like what you see? Visit the ' +\n",
              "          '<a target=\"_blank\" href=https://colab.research.google.com/notebooks/data_table.ipynb>data table notebook</a>'\n",
              "          + ' to learn more about interactive tables.';\n",
              "        element.innerHTML = '';\n",
              "        dataTable['output_type'] = 'display_data';\n",
              "        await google.colab.output.renderOutput(dataTable, element);\n",
              "        const docLink = document.createElement('div');\n",
              "        docLink.innerHTML = docLinkHtml;\n",
              "        element.appendChild(docLink);\n",
              "      }\n",
              "    </script>\n",
              "  </div>\n",
              "\n",
              "\n",
              "<div id=\"df-ba213f71-31f4-4605-a9c6-576640c8940e\">\n",
              "  <button class=\"colab-df-quickchart\" onclick=\"quickchart('df-ba213f71-31f4-4605-a9c6-576640c8940e')\"\n",
              "            title=\"Suggest charts.\"\n",
              "            style=\"display:none;\">\n",
              "\n",
              "<svg xmlns=\"http://www.w3.org/2000/svg\" height=\"24px\"viewBox=\"0 0 24 24\"\n",
              "     width=\"24px\">\n",
              "    <g>\n",
              "        <path d=\"M19 3H5c-1.1 0-2 .9-2 2v14c0 1.1.9 2 2 2h14c1.1 0 2-.9 2-2V5c0-1.1-.9-2-2-2zM9 17H7v-7h2v7zm4 0h-2V7h2v10zm4 0h-2v-4h2v4z\"/>\n",
              "    </g>\n",
              "</svg>\n",
              "  </button>\n",
              "\n",
              "<style>\n",
              "  .colab-df-quickchart {\n",
              "      --bg-color: #E8F0FE;\n",
              "      --fill-color: #1967D2;\n",
              "      --hover-bg-color: #E2EBFA;\n",
              "      --hover-fill-color: #174EA6;\n",
              "      --disabled-fill-color: #AAA;\n",
              "      --disabled-bg-color: #DDD;\n",
              "  }\n",
              "\n",
              "  [theme=dark] .colab-df-quickchart {\n",
              "      --bg-color: #3B4455;\n",
              "      --fill-color: #D2E3FC;\n",
              "      --hover-bg-color: #434B5C;\n",
              "      --hover-fill-color: #FFFFFF;\n",
              "      --disabled-bg-color: #3B4455;\n",
              "      --disabled-fill-color: #666;\n",
              "  }\n",
              "\n",
              "  .colab-df-quickchart {\n",
              "    background-color: var(--bg-color);\n",
              "    border: none;\n",
              "    border-radius: 50%;\n",
              "    cursor: pointer;\n",
              "    display: none;\n",
              "    fill: var(--fill-color);\n",
              "    height: 32px;\n",
              "    padding: 0;\n",
              "    width: 32px;\n",
              "  }\n",
              "\n",
              "  .colab-df-quickchart:hover {\n",
              "    background-color: var(--hover-bg-color);\n",
              "    box-shadow: 0 1px 2px rgba(60, 64, 67, 0.3), 0 1px 3px 1px rgba(60, 64, 67, 0.15);\n",
              "    fill: var(--button-hover-fill-color);\n",
              "  }\n",
              "\n",
              "  .colab-df-quickchart-complete:disabled,\n",
              "  .colab-df-quickchart-complete:disabled:hover {\n",
              "    background-color: var(--disabled-bg-color);\n",
              "    fill: var(--disabled-fill-color);\n",
              "    box-shadow: none;\n",
              "  }\n",
              "\n",
              "  .colab-df-spinner {\n",
              "    border: 2px solid var(--fill-color);\n",
              "    border-color: transparent;\n",
              "    border-bottom-color: var(--fill-color);\n",
              "    animation:\n",
              "      spin 1s steps(1) infinite;\n",
              "  }\n",
              "\n",
              "  @keyframes spin {\n",
              "    0% {\n",
              "      border-color: transparent;\n",
              "      border-bottom-color: var(--fill-color);\n",
              "      border-left-color: var(--fill-color);\n",
              "    }\n",
              "    20% {\n",
              "      border-color: transparent;\n",
              "      border-left-color: var(--fill-color);\n",
              "      border-top-color: var(--fill-color);\n",
              "    }\n",
              "    30% {\n",
              "      border-color: transparent;\n",
              "      border-left-color: var(--fill-color);\n",
              "      border-top-color: var(--fill-color);\n",
              "      border-right-color: var(--fill-color);\n",
              "    }\n",
              "    40% {\n",
              "      border-color: transparent;\n",
              "      border-right-color: var(--fill-color);\n",
              "      border-top-color: var(--fill-color);\n",
              "    }\n",
              "    60% {\n",
              "      border-color: transparent;\n",
              "      border-right-color: var(--fill-color);\n",
              "    }\n",
              "    80% {\n",
              "      border-color: transparent;\n",
              "      border-right-color: var(--fill-color);\n",
              "      border-bottom-color: var(--fill-color);\n",
              "    }\n",
              "    90% {\n",
              "      border-color: transparent;\n",
              "      border-bottom-color: var(--fill-color);\n",
              "    }\n",
              "  }\n",
              "</style>\n",
              "\n",
              "  <script>\n",
              "    async function quickchart(key) {\n",
              "      const quickchartButtonEl =\n",
              "        document.querySelector('#' + key + ' button');\n",
              "      quickchartButtonEl.disabled = true;  // To prevent multiple clicks.\n",
              "      quickchartButtonEl.classList.add('colab-df-spinner');\n",
              "      try {\n",
              "        const charts = await google.colab.kernel.invokeFunction(\n",
              "            'suggestCharts', [key], {});\n",
              "      } catch (error) {\n",
              "        console.error('Error during call to suggestCharts:', error);\n",
              "      }\n",
              "      quickchartButtonEl.classList.remove('colab-df-spinner');\n",
              "      quickchartButtonEl.classList.add('colab-df-quickchart-complete');\n",
              "    }\n",
              "    (() => {\n",
              "      let quickchartButtonEl =\n",
              "        document.querySelector('#df-ba213f71-31f4-4605-a9c6-576640c8940e button');\n",
              "      quickchartButtonEl.style.display =\n",
              "        google.colab.kernel.accessAllowed ? 'block' : 'none';\n",
              "    })();\n",
              "  </script>\n",
              "</div>\n",
              "    </div>\n",
              "  </div>\n"
            ]
          },
          "metadata": {},
          "execution_count": 4
        }
      ]
    },
    {
      "cell_type": "code",
      "source": [
        "#Shape of the Dataset\n",
        "# To get idea about the dimension of data\n",
        "df.shape"
      ],
      "metadata": {
        "colab": {
          "base_uri": "https://localhost:8080/"
        },
        "id": "f5dBgFT_wELc",
        "outputId": "0bcc2a78-095b-40b2-873b-0900b866173a"
      },
      "execution_count": null,
      "outputs": [
        {
          "output_type": "execute_result",
          "data": {
            "text/plain": [
              "(550068, 10)"
            ]
          },
          "metadata": {},
          "execution_count": 5
        }
      ]
    },
    {
      "cell_type": "code",
      "source": [
        "#info about the dataset\n",
        "#Exploring the Attributes of the data\n",
        "df.info()"
      ],
      "metadata": {
        "colab": {
          "base_uri": "https://localhost:8080/"
        },
        "id": "crYyAGEIxQst",
        "outputId": "2e288691-ff91-485a-a19d-1bdf7cb33ad4"
      },
      "execution_count": null,
      "outputs": [
        {
          "output_type": "stream",
          "name": "stdout",
          "text": [
            "<class 'pandas.core.frame.DataFrame'>\n",
            "RangeIndex: 550068 entries, 0 to 550067\n",
            "Data columns (total 10 columns):\n",
            " #   Column                      Non-Null Count   Dtype \n",
            "---  ------                      --------------   ----- \n",
            " 0   User_ID                     550068 non-null  int64 \n",
            " 1   Product_ID                  550068 non-null  object\n",
            " 2   Gender                      550068 non-null  object\n",
            " 3   Age                         550068 non-null  object\n",
            " 4   Occupation                  550068 non-null  int64 \n",
            " 5   City_Category               550068 non-null  object\n",
            " 6   Stay_In_Current_City_Years  550068 non-null  object\n",
            " 7   Marital_Status              550068 non-null  int64 \n",
            " 8   Product_Category            550068 non-null  int64 \n",
            " 9   Purchase                    550068 non-null  int64 \n",
            "dtypes: int64(5), object(5)\n",
            "memory usage: 42.0+ MB\n"
          ]
        }
      ]
    },
    {
      "cell_type": "markdown",
      "source": [
        "For this case, We will focus upon Gender, Age, Marital Status and their Purchase Pattern."
      ],
      "metadata": {
        "id": "z5ipOB7gu5Mw"
      }
    },
    {
      "cell_type": "code",
      "source": [
        "# Purchase is the only Numerical Column . So some statistical analysis\n",
        "df['Purchase'].describe()"
      ],
      "metadata": {
        "colab": {
          "base_uri": "https://localhost:8080/"
        },
        "id": "N1ibyDt-_-KJ",
        "outputId": "35c2a2aa-67c6-49a7-9e4c-c92676e8e6e7"
      },
      "execution_count": null,
      "outputs": [
        {
          "output_type": "execute_result",
          "data": {
            "text/plain": [
              "count    550068.000000\n",
              "mean       9263.968713\n",
              "std        5023.065394\n",
              "min          12.000000\n",
              "25%        5823.000000\n",
              "50%        8047.000000\n",
              "75%       12054.000000\n",
              "max       23961.000000\n",
              "Name: Purchase, dtype: float64"
            ]
          },
          "metadata": {},
          "execution_count": 7
        }
      ]
    },
    {
      "cell_type": "markdown",
      "source": [
        " Conversion of some column into category\n",
        "\n",
        "---\n",
        "\n"
      ],
      "metadata": {
        "id": "dlsHzskjAB9g"
      }
    },
    {
      "cell_type": "code",
      "source": [
        "df['Gender'] = df['Gender'].astype('category')\n",
        "df['Age'] = df['Age'].astype('category')\n",
        "df['Marital_Status'] = df['Marital_Status'].astype('category')"
      ],
      "metadata": {
        "id": "4VZ_eSN-_okg"
      },
      "execution_count": null,
      "outputs": []
    },
    {
      "cell_type": "code",
      "source": [
        "print(\"Data Types of Attributes:\")\n",
        "print(df.dtypes)"
      ],
      "metadata": {
        "colab": {
          "base_uri": "https://localhost:8080/"
        },
        "id": "VxydotB0AzhT",
        "outputId": "cc21da71-e4ec-4057-8691-9947e094f58d"
      },
      "execution_count": null,
      "outputs": [
        {
          "output_type": "stream",
          "name": "stdout",
          "text": [
            "Data Types of Attributes:\n",
            "User_ID                          int64\n",
            "Product_ID                      object\n",
            "Gender                        category\n",
            "Age                           category\n",
            "Occupation                       int64\n",
            "City_Category                   object\n",
            "Stay_In_Current_City_Years      object\n",
            "Marital_Status                category\n",
            "Product_Category                 int64\n",
            "Purchase                         int64\n",
            "dtype: object\n"
          ]
        }
      ]
    },
    {
      "cell_type": "markdown",
      "source": [
        "## STEP 2:- DATA PREPROCESSING\n",
        "### Missing value Check"
      ],
      "metadata": {
        "id": "ru5rumPdy6H0"
      }
    },
    {
      "cell_type": "code",
      "source": [
        "df.isnull().sum()"
      ],
      "metadata": {
        "colab": {
          "base_uri": "https://localhost:8080/"
        },
        "id": "nmPgEJ6aye4C",
        "outputId": "16a126a0-c999-44b5-b456-da38f8cd7f6d"
      },
      "execution_count": null,
      "outputs": [
        {
          "output_type": "execute_result",
          "data": {
            "text/plain": [
              "User_ID                       0\n",
              "Product_ID                    0\n",
              "Gender                        0\n",
              "Age                           0\n",
              "Occupation                    0\n",
              "City_Category                 0\n",
              "Stay_In_Current_City_Years    0\n",
              "Marital_Status                0\n",
              "Product_Category              0\n",
              "Purchase                      0\n",
              "dtype: int64"
            ]
          },
          "metadata": {},
          "execution_count": 10
        }
      ]
    },
    {
      "cell_type": "markdown",
      "source": [
        "#### Detect and handle outliers"
      ],
      "metadata": {
        "id": "PseNqysj0G-x"
      }
    },
    {
      "cell_type": "code",
      "source": [
        "z_scores = np.abs(stats.zscore(df[\"Purchase\"]))\n",
        "z_scores"
      ],
      "metadata": {
        "colab": {
          "base_uri": "https://localhost:8080/"
        },
        "id": "lkc0lOWSzGyq",
        "outputId": "a708c99f-7e91-4e34-fb28-81d2833bba91"
      },
      "execution_count": null,
      "outputs": [
        {
          "output_type": "execute_result",
          "data": {
            "text/plain": [
              "0         0.177973\n",
              "1         1.181756\n",
              "2         1.561193\n",
              "3         1.633858\n",
              "4         0.257805\n",
              "            ...   \n",
              "550063    1.771025\n",
              "550064    1.770428\n",
              "550065    1.817013\n",
              "550066    1.771623\n",
              "550067    1.746737\n",
              "Name: Purchase, Length: 550068, dtype: float64"
            ]
          },
          "metadata": {},
          "execution_count": 11
        }
      ]
    },
    {
      "cell_type": "markdown",
      "source": [
        "Data is already preprocessed and has no significant outliers and null values."
      ],
      "metadata": {
        "id": "DPIDXhQY5Dkf"
      }
    },
    {
      "cell_type": "code",
      "source": [
        "df.head()"
      ],
      "metadata": {
        "colab": {
          "base_uri": "https://localhost:8080/",
          "height": 206
        },
        "id": "y4nTNdPM_7ve",
        "outputId": "feac7c49-ead3-4d6d-9302-beb43a8b5346"
      },
      "execution_count": null,
      "outputs": [
        {
          "output_type": "execute_result",
          "data": {
            "text/plain": [
              "   User_ID Product_ID Gender   Age  Occupation City_Category  \\\n",
              "0  1000001  P00069042      F  0-17          10             A   \n",
              "1  1000001  P00248942      F  0-17          10             A   \n",
              "2  1000001  P00087842      F  0-17          10             A   \n",
              "3  1000001  P00085442      F  0-17          10             A   \n",
              "4  1000002  P00285442      M   55+          16             C   \n",
              "\n",
              "  Stay_In_Current_City_Years Marital_Status  Product_Category  Purchase  \n",
              "0                          2              0                 3      8370  \n",
              "1                          2              0                 1     15200  \n",
              "2                          2              0                12      1422  \n",
              "3                          2              0                12      1057  \n",
              "4                         4+              0                 8      7969  "
            ],
            "text/html": [
              "\n",
              "  <div id=\"df-852e532a-9867-4532-a3ca-9e05382adae6\" class=\"colab-df-container\">\n",
              "    <div>\n",
              "<style scoped>\n",
              "    .dataframe tbody tr th:only-of-type {\n",
              "        vertical-align: middle;\n",
              "    }\n",
              "\n",
              "    .dataframe tbody tr th {\n",
              "        vertical-align: top;\n",
              "    }\n",
              "\n",
              "    .dataframe thead th {\n",
              "        text-align: right;\n",
              "    }\n",
              "</style>\n",
              "<table border=\"1\" class=\"dataframe\">\n",
              "  <thead>\n",
              "    <tr style=\"text-align: right;\">\n",
              "      <th></th>\n",
              "      <th>User_ID</th>\n",
              "      <th>Product_ID</th>\n",
              "      <th>Gender</th>\n",
              "      <th>Age</th>\n",
              "      <th>Occupation</th>\n",
              "      <th>City_Category</th>\n",
              "      <th>Stay_In_Current_City_Years</th>\n",
              "      <th>Marital_Status</th>\n",
              "      <th>Product_Category</th>\n",
              "      <th>Purchase</th>\n",
              "    </tr>\n",
              "  </thead>\n",
              "  <tbody>\n",
              "    <tr>\n",
              "      <th>0</th>\n",
              "      <td>1000001</td>\n",
              "      <td>P00069042</td>\n",
              "      <td>F</td>\n",
              "      <td>0-17</td>\n",
              "      <td>10</td>\n",
              "      <td>A</td>\n",
              "      <td>2</td>\n",
              "      <td>0</td>\n",
              "      <td>3</td>\n",
              "      <td>8370</td>\n",
              "    </tr>\n",
              "    <tr>\n",
              "      <th>1</th>\n",
              "      <td>1000001</td>\n",
              "      <td>P00248942</td>\n",
              "      <td>F</td>\n",
              "      <td>0-17</td>\n",
              "      <td>10</td>\n",
              "      <td>A</td>\n",
              "      <td>2</td>\n",
              "      <td>0</td>\n",
              "      <td>1</td>\n",
              "      <td>15200</td>\n",
              "    </tr>\n",
              "    <tr>\n",
              "      <th>2</th>\n",
              "      <td>1000001</td>\n",
              "      <td>P00087842</td>\n",
              "      <td>F</td>\n",
              "      <td>0-17</td>\n",
              "      <td>10</td>\n",
              "      <td>A</td>\n",
              "      <td>2</td>\n",
              "      <td>0</td>\n",
              "      <td>12</td>\n",
              "      <td>1422</td>\n",
              "    </tr>\n",
              "    <tr>\n",
              "      <th>3</th>\n",
              "      <td>1000001</td>\n",
              "      <td>P00085442</td>\n",
              "      <td>F</td>\n",
              "      <td>0-17</td>\n",
              "      <td>10</td>\n",
              "      <td>A</td>\n",
              "      <td>2</td>\n",
              "      <td>0</td>\n",
              "      <td>12</td>\n",
              "      <td>1057</td>\n",
              "    </tr>\n",
              "    <tr>\n",
              "      <th>4</th>\n",
              "      <td>1000002</td>\n",
              "      <td>P00285442</td>\n",
              "      <td>M</td>\n",
              "      <td>55+</td>\n",
              "      <td>16</td>\n",
              "      <td>C</td>\n",
              "      <td>4+</td>\n",
              "      <td>0</td>\n",
              "      <td>8</td>\n",
              "      <td>7969</td>\n",
              "    </tr>\n",
              "  </tbody>\n",
              "</table>\n",
              "</div>\n",
              "    <div class=\"colab-df-buttons\">\n",
              "\n",
              "  <div class=\"colab-df-container\">\n",
              "    <button class=\"colab-df-convert\" onclick=\"convertToInteractive('df-852e532a-9867-4532-a3ca-9e05382adae6')\"\n",
              "            title=\"Convert this dataframe to an interactive table.\"\n",
              "            style=\"display:none;\">\n",
              "\n",
              "  <svg xmlns=\"http://www.w3.org/2000/svg\" height=\"24px\" viewBox=\"0 -960 960 960\">\n",
              "    <path d=\"M120-120v-720h720v720H120Zm60-500h600v-160H180v160Zm220 220h160v-160H400v160Zm0 220h160v-160H400v160ZM180-400h160v-160H180v160Zm440 0h160v-160H620v160ZM180-180h160v-160H180v160Zm440 0h160v-160H620v160Z\"/>\n",
              "  </svg>\n",
              "    </button>\n",
              "\n",
              "  <style>\n",
              "    .colab-df-container {\n",
              "      display:flex;\n",
              "      gap: 12px;\n",
              "    }\n",
              "\n",
              "    .colab-df-convert {\n",
              "      background-color: #E8F0FE;\n",
              "      border: none;\n",
              "      border-radius: 50%;\n",
              "      cursor: pointer;\n",
              "      display: none;\n",
              "      fill: #1967D2;\n",
              "      height: 32px;\n",
              "      padding: 0 0 0 0;\n",
              "      width: 32px;\n",
              "    }\n",
              "\n",
              "    .colab-df-convert:hover {\n",
              "      background-color: #E2EBFA;\n",
              "      box-shadow: 0px 1px 2px rgba(60, 64, 67, 0.3), 0px 1px 3px 1px rgba(60, 64, 67, 0.15);\n",
              "      fill: #174EA6;\n",
              "    }\n",
              "\n",
              "    .colab-df-buttons div {\n",
              "      margin-bottom: 4px;\n",
              "    }\n",
              "\n",
              "    [theme=dark] .colab-df-convert {\n",
              "      background-color: #3B4455;\n",
              "      fill: #D2E3FC;\n",
              "    }\n",
              "\n",
              "    [theme=dark] .colab-df-convert:hover {\n",
              "      background-color: #434B5C;\n",
              "      box-shadow: 0px 1px 3px 1px rgba(0, 0, 0, 0.15);\n",
              "      filter: drop-shadow(0px 1px 2px rgba(0, 0, 0, 0.3));\n",
              "      fill: #FFFFFF;\n",
              "    }\n",
              "  </style>\n",
              "\n",
              "    <script>\n",
              "      const buttonEl =\n",
              "        document.querySelector('#df-852e532a-9867-4532-a3ca-9e05382adae6 button.colab-df-convert');\n",
              "      buttonEl.style.display =\n",
              "        google.colab.kernel.accessAllowed ? 'block' : 'none';\n",
              "\n",
              "      async function convertToInteractive(key) {\n",
              "        const element = document.querySelector('#df-852e532a-9867-4532-a3ca-9e05382adae6');\n",
              "        const dataTable =\n",
              "          await google.colab.kernel.invokeFunction('convertToInteractive',\n",
              "                                                    [key], {});\n",
              "        if (!dataTable) return;\n",
              "\n",
              "        const docLinkHtml = 'Like what you see? Visit the ' +\n",
              "          '<a target=\"_blank\" href=https://colab.research.google.com/notebooks/data_table.ipynb>data table notebook</a>'\n",
              "          + ' to learn more about interactive tables.';\n",
              "        element.innerHTML = '';\n",
              "        dataTable['output_type'] = 'display_data';\n",
              "        await google.colab.output.renderOutput(dataTable, element);\n",
              "        const docLink = document.createElement('div');\n",
              "        docLink.innerHTML = docLinkHtml;\n",
              "        element.appendChild(docLink);\n",
              "      }\n",
              "    </script>\n",
              "  </div>\n",
              "\n",
              "\n",
              "<div id=\"df-963b70d5-b664-43a9-98b6-470da61854b0\">\n",
              "  <button class=\"colab-df-quickchart\" onclick=\"quickchart('df-963b70d5-b664-43a9-98b6-470da61854b0')\"\n",
              "            title=\"Suggest charts.\"\n",
              "            style=\"display:none;\">\n",
              "\n",
              "<svg xmlns=\"http://www.w3.org/2000/svg\" height=\"24px\"viewBox=\"0 0 24 24\"\n",
              "     width=\"24px\">\n",
              "    <g>\n",
              "        <path d=\"M19 3H5c-1.1 0-2 .9-2 2v14c0 1.1.9 2 2 2h14c1.1 0 2-.9 2-2V5c0-1.1-.9-2-2-2zM9 17H7v-7h2v7zm4 0h-2V7h2v10zm4 0h-2v-4h2v4z\"/>\n",
              "    </g>\n",
              "</svg>\n",
              "  </button>\n",
              "\n",
              "<style>\n",
              "  .colab-df-quickchart {\n",
              "      --bg-color: #E8F0FE;\n",
              "      --fill-color: #1967D2;\n",
              "      --hover-bg-color: #E2EBFA;\n",
              "      --hover-fill-color: #174EA6;\n",
              "      --disabled-fill-color: #AAA;\n",
              "      --disabled-bg-color: #DDD;\n",
              "  }\n",
              "\n",
              "  [theme=dark] .colab-df-quickchart {\n",
              "      --bg-color: #3B4455;\n",
              "      --fill-color: #D2E3FC;\n",
              "      --hover-bg-color: #434B5C;\n",
              "      --hover-fill-color: #FFFFFF;\n",
              "      --disabled-bg-color: #3B4455;\n",
              "      --disabled-fill-color: #666;\n",
              "  }\n",
              "\n",
              "  .colab-df-quickchart {\n",
              "    background-color: var(--bg-color);\n",
              "    border: none;\n",
              "    border-radius: 50%;\n",
              "    cursor: pointer;\n",
              "    display: none;\n",
              "    fill: var(--fill-color);\n",
              "    height: 32px;\n",
              "    padding: 0;\n",
              "    width: 32px;\n",
              "  }\n",
              "\n",
              "  .colab-df-quickchart:hover {\n",
              "    background-color: var(--hover-bg-color);\n",
              "    box-shadow: 0 1px 2px rgba(60, 64, 67, 0.3), 0 1px 3px 1px rgba(60, 64, 67, 0.15);\n",
              "    fill: var(--button-hover-fill-color);\n",
              "  }\n",
              "\n",
              "  .colab-df-quickchart-complete:disabled,\n",
              "  .colab-df-quickchart-complete:disabled:hover {\n",
              "    background-color: var(--disabled-bg-color);\n",
              "    fill: var(--disabled-fill-color);\n",
              "    box-shadow: none;\n",
              "  }\n",
              "\n",
              "  .colab-df-spinner {\n",
              "    border: 2px solid var(--fill-color);\n",
              "    border-color: transparent;\n",
              "    border-bottom-color: var(--fill-color);\n",
              "    animation:\n",
              "      spin 1s steps(1) infinite;\n",
              "  }\n",
              "\n",
              "  @keyframes spin {\n",
              "    0% {\n",
              "      border-color: transparent;\n",
              "      border-bottom-color: var(--fill-color);\n",
              "      border-left-color: var(--fill-color);\n",
              "    }\n",
              "    20% {\n",
              "      border-color: transparent;\n",
              "      border-left-color: var(--fill-color);\n",
              "      border-top-color: var(--fill-color);\n",
              "    }\n",
              "    30% {\n",
              "      border-color: transparent;\n",
              "      border-left-color: var(--fill-color);\n",
              "      border-top-color: var(--fill-color);\n",
              "      border-right-color: var(--fill-color);\n",
              "    }\n",
              "    40% {\n",
              "      border-color: transparent;\n",
              "      border-right-color: var(--fill-color);\n",
              "      border-top-color: var(--fill-color);\n",
              "    }\n",
              "    60% {\n",
              "      border-color: transparent;\n",
              "      border-right-color: var(--fill-color);\n",
              "    }\n",
              "    80% {\n",
              "      border-color: transparent;\n",
              "      border-right-color: var(--fill-color);\n",
              "      border-bottom-color: var(--fill-color);\n",
              "    }\n",
              "    90% {\n",
              "      border-color: transparent;\n",
              "      border-bottom-color: var(--fill-color);\n",
              "    }\n",
              "  }\n",
              "</style>\n",
              "\n",
              "  <script>\n",
              "    async function quickchart(key) {\n",
              "      const quickchartButtonEl =\n",
              "        document.querySelector('#' + key + ' button');\n",
              "      quickchartButtonEl.disabled = true;  // To prevent multiple clicks.\n",
              "      quickchartButtonEl.classList.add('colab-df-spinner');\n",
              "      try {\n",
              "        const charts = await google.colab.kernel.invokeFunction(\n",
              "            'suggestCharts', [key], {});\n",
              "      } catch (error) {\n",
              "        console.error('Error during call to suggestCharts:', error);\n",
              "      }\n",
              "      quickchartButtonEl.classList.remove('colab-df-spinner');\n",
              "      quickchartButtonEl.classList.add('colab-df-quickchart-complete');\n",
              "    }\n",
              "    (() => {\n",
              "      let quickchartButtonEl =\n",
              "        document.querySelector('#df-963b70d5-b664-43a9-98b6-470da61854b0 button');\n",
              "      quickchartButtonEl.style.display =\n",
              "        google.colab.kernel.accessAllowed ? 'block' : 'none';\n",
              "    })();\n",
              "  </script>\n",
              "</div>\n",
              "    </div>\n",
              "  </div>\n"
            ]
          },
          "metadata": {},
          "execution_count": 12
        }
      ]
    },
    {
      "cell_type": "markdown",
      "source": [
        "## Step 3: Data Exploration\n",
        "### Non-Graphical Analysis\n",
        "Performing Value Counts"
      ],
      "metadata": {
        "id": "u4GRqCo21gLK"
      }
    },
    {
      "cell_type": "markdown",
      "source": [
        "GENDER"
      ],
      "metadata": {
        "id": "tuRnc8RAyaMy"
      }
    },
    {
      "cell_type": "code",
      "source": [
        "print(\"Value Counts for Gender:\")\n",
        "print(df['Gender'].value_counts(normalize=True))"
      ],
      "metadata": {
        "colab": {
          "base_uri": "https://localhost:8080/"
        },
        "id": "dma-z3FDBRv0",
        "outputId": "97d484ee-90f0-4416-edad-d82433b1e93f"
      },
      "execution_count": null,
      "outputs": [
        {
          "output_type": "stream",
          "name": "stdout",
          "text": [
            "Value Counts for Gender:\n",
            "M    0.753105\n",
            "F    0.246895\n",
            "Name: Gender, dtype: float64\n"
          ]
        }
      ]
    },
    {
      "cell_type": "code",
      "source": [
        "df.groupby(['Gender'])['Purchase'].describe()"
      ],
      "metadata": {
        "colab": {
          "base_uri": "https://localhost:8080/",
          "height": 143
        },
        "id": "8NRgUTGMwQjx",
        "outputId": "55fcc37e-514d-4109-8bcc-8aacdbb4fb97"
      },
      "execution_count": null,
      "outputs": [
        {
          "output_type": "execute_result",
          "data": {
            "text/plain": [
              "           count         mean          std   min     25%     50%      75%  \\\n",
              "Gender                                                                      \n",
              "F       135809.0  8734.565765  4767.233289  12.0  5433.0  7914.0  11400.0   \n",
              "M       414259.0  9437.526040  5092.186210  12.0  5863.0  8098.0  12454.0   \n",
              "\n",
              "            max  \n",
              "Gender           \n",
              "F       23959.0  \n",
              "M       23961.0  "
            ],
            "text/html": [
              "\n",
              "  <div id=\"df-2c28c93a-1978-4653-a55c-03f7e48c455f\" class=\"colab-df-container\">\n",
              "    <div>\n",
              "<style scoped>\n",
              "    .dataframe tbody tr th:only-of-type {\n",
              "        vertical-align: middle;\n",
              "    }\n",
              "\n",
              "    .dataframe tbody tr th {\n",
              "        vertical-align: top;\n",
              "    }\n",
              "\n",
              "    .dataframe thead th {\n",
              "        text-align: right;\n",
              "    }\n",
              "</style>\n",
              "<table border=\"1\" class=\"dataframe\">\n",
              "  <thead>\n",
              "    <tr style=\"text-align: right;\">\n",
              "      <th></th>\n",
              "      <th>count</th>\n",
              "      <th>mean</th>\n",
              "      <th>std</th>\n",
              "      <th>min</th>\n",
              "      <th>25%</th>\n",
              "      <th>50%</th>\n",
              "      <th>75%</th>\n",
              "      <th>max</th>\n",
              "    </tr>\n",
              "    <tr>\n",
              "      <th>Gender</th>\n",
              "      <th></th>\n",
              "      <th></th>\n",
              "      <th></th>\n",
              "      <th></th>\n",
              "      <th></th>\n",
              "      <th></th>\n",
              "      <th></th>\n",
              "      <th></th>\n",
              "    </tr>\n",
              "  </thead>\n",
              "  <tbody>\n",
              "    <tr>\n",
              "      <th>F</th>\n",
              "      <td>135809.0</td>\n",
              "      <td>8734.565765</td>\n",
              "      <td>4767.233289</td>\n",
              "      <td>12.0</td>\n",
              "      <td>5433.0</td>\n",
              "      <td>7914.0</td>\n",
              "      <td>11400.0</td>\n",
              "      <td>23959.0</td>\n",
              "    </tr>\n",
              "    <tr>\n",
              "      <th>M</th>\n",
              "      <td>414259.0</td>\n",
              "      <td>9437.526040</td>\n",
              "      <td>5092.186210</td>\n",
              "      <td>12.0</td>\n",
              "      <td>5863.0</td>\n",
              "      <td>8098.0</td>\n",
              "      <td>12454.0</td>\n",
              "      <td>23961.0</td>\n",
              "    </tr>\n",
              "  </tbody>\n",
              "</table>\n",
              "</div>\n",
              "    <div class=\"colab-df-buttons\">\n",
              "\n",
              "  <div class=\"colab-df-container\">\n",
              "    <button class=\"colab-df-convert\" onclick=\"convertToInteractive('df-2c28c93a-1978-4653-a55c-03f7e48c455f')\"\n",
              "            title=\"Convert this dataframe to an interactive table.\"\n",
              "            style=\"display:none;\">\n",
              "\n",
              "  <svg xmlns=\"http://www.w3.org/2000/svg\" height=\"24px\" viewBox=\"0 -960 960 960\">\n",
              "    <path d=\"M120-120v-720h720v720H120Zm60-500h600v-160H180v160Zm220 220h160v-160H400v160Zm0 220h160v-160H400v160ZM180-400h160v-160H180v160Zm440 0h160v-160H620v160ZM180-180h160v-160H180v160Zm440 0h160v-160H620v160Z\"/>\n",
              "  </svg>\n",
              "    </button>\n",
              "\n",
              "  <style>\n",
              "    .colab-df-container {\n",
              "      display:flex;\n",
              "      gap: 12px;\n",
              "    }\n",
              "\n",
              "    .colab-df-convert {\n",
              "      background-color: #E8F0FE;\n",
              "      border: none;\n",
              "      border-radius: 50%;\n",
              "      cursor: pointer;\n",
              "      display: none;\n",
              "      fill: #1967D2;\n",
              "      height: 32px;\n",
              "      padding: 0 0 0 0;\n",
              "      width: 32px;\n",
              "    }\n",
              "\n",
              "    .colab-df-convert:hover {\n",
              "      background-color: #E2EBFA;\n",
              "      box-shadow: 0px 1px 2px rgba(60, 64, 67, 0.3), 0px 1px 3px 1px rgba(60, 64, 67, 0.15);\n",
              "      fill: #174EA6;\n",
              "    }\n",
              "\n",
              "    .colab-df-buttons div {\n",
              "      margin-bottom: 4px;\n",
              "    }\n",
              "\n",
              "    [theme=dark] .colab-df-convert {\n",
              "      background-color: #3B4455;\n",
              "      fill: #D2E3FC;\n",
              "    }\n",
              "\n",
              "    [theme=dark] .colab-df-convert:hover {\n",
              "      background-color: #434B5C;\n",
              "      box-shadow: 0px 1px 3px 1px rgba(0, 0, 0, 0.15);\n",
              "      filter: drop-shadow(0px 1px 2px rgba(0, 0, 0, 0.3));\n",
              "      fill: #FFFFFF;\n",
              "    }\n",
              "  </style>\n",
              "\n",
              "    <script>\n",
              "      const buttonEl =\n",
              "        document.querySelector('#df-2c28c93a-1978-4653-a55c-03f7e48c455f button.colab-df-convert');\n",
              "      buttonEl.style.display =\n",
              "        google.colab.kernel.accessAllowed ? 'block' : 'none';\n",
              "\n",
              "      async function convertToInteractive(key) {\n",
              "        const element = document.querySelector('#df-2c28c93a-1978-4653-a55c-03f7e48c455f');\n",
              "        const dataTable =\n",
              "          await google.colab.kernel.invokeFunction('convertToInteractive',\n",
              "                                                    [key], {});\n",
              "        if (!dataTable) return;\n",
              "\n",
              "        const docLinkHtml = 'Like what you see? Visit the ' +\n",
              "          '<a target=\"_blank\" href=https://colab.research.google.com/notebooks/data_table.ipynb>data table notebook</a>'\n",
              "          + ' to learn more about interactive tables.';\n",
              "        element.innerHTML = '';\n",
              "        dataTable['output_type'] = 'display_data';\n",
              "        await google.colab.output.renderOutput(dataTable, element);\n",
              "        const docLink = document.createElement('div');\n",
              "        docLink.innerHTML = docLinkHtml;\n",
              "        element.appendChild(docLink);\n",
              "      }\n",
              "    </script>\n",
              "  </div>\n",
              "\n",
              "\n",
              "<div id=\"df-4858bf5c-f41e-4af1-bab3-1b241d581ad4\">\n",
              "  <button class=\"colab-df-quickchart\" onclick=\"quickchart('df-4858bf5c-f41e-4af1-bab3-1b241d581ad4')\"\n",
              "            title=\"Suggest charts.\"\n",
              "            style=\"display:none;\">\n",
              "\n",
              "<svg xmlns=\"http://www.w3.org/2000/svg\" height=\"24px\"viewBox=\"0 0 24 24\"\n",
              "     width=\"24px\">\n",
              "    <g>\n",
              "        <path d=\"M19 3H5c-1.1 0-2 .9-2 2v14c0 1.1.9 2 2 2h14c1.1 0 2-.9 2-2V5c0-1.1-.9-2-2-2zM9 17H7v-7h2v7zm4 0h-2V7h2v10zm4 0h-2v-4h2v4z\"/>\n",
              "    </g>\n",
              "</svg>\n",
              "  </button>\n",
              "\n",
              "<style>\n",
              "  .colab-df-quickchart {\n",
              "      --bg-color: #E8F0FE;\n",
              "      --fill-color: #1967D2;\n",
              "      --hover-bg-color: #E2EBFA;\n",
              "      --hover-fill-color: #174EA6;\n",
              "      --disabled-fill-color: #AAA;\n",
              "      --disabled-bg-color: #DDD;\n",
              "  }\n",
              "\n",
              "  [theme=dark] .colab-df-quickchart {\n",
              "      --bg-color: #3B4455;\n",
              "      --fill-color: #D2E3FC;\n",
              "      --hover-bg-color: #434B5C;\n",
              "      --hover-fill-color: #FFFFFF;\n",
              "      --disabled-bg-color: #3B4455;\n",
              "      --disabled-fill-color: #666;\n",
              "  }\n",
              "\n",
              "  .colab-df-quickchart {\n",
              "    background-color: var(--bg-color);\n",
              "    border: none;\n",
              "    border-radius: 50%;\n",
              "    cursor: pointer;\n",
              "    display: none;\n",
              "    fill: var(--fill-color);\n",
              "    height: 32px;\n",
              "    padding: 0;\n",
              "    width: 32px;\n",
              "  }\n",
              "\n",
              "  .colab-df-quickchart:hover {\n",
              "    background-color: var(--hover-bg-color);\n",
              "    box-shadow: 0 1px 2px rgba(60, 64, 67, 0.3), 0 1px 3px 1px rgba(60, 64, 67, 0.15);\n",
              "    fill: var(--button-hover-fill-color);\n",
              "  }\n",
              "\n",
              "  .colab-df-quickchart-complete:disabled,\n",
              "  .colab-df-quickchart-complete:disabled:hover {\n",
              "    background-color: var(--disabled-bg-color);\n",
              "    fill: var(--disabled-fill-color);\n",
              "    box-shadow: none;\n",
              "  }\n",
              "\n",
              "  .colab-df-spinner {\n",
              "    border: 2px solid var(--fill-color);\n",
              "    border-color: transparent;\n",
              "    border-bottom-color: var(--fill-color);\n",
              "    animation:\n",
              "      spin 1s steps(1) infinite;\n",
              "  }\n",
              "\n",
              "  @keyframes spin {\n",
              "    0% {\n",
              "      border-color: transparent;\n",
              "      border-bottom-color: var(--fill-color);\n",
              "      border-left-color: var(--fill-color);\n",
              "    }\n",
              "    20% {\n",
              "      border-color: transparent;\n",
              "      border-left-color: var(--fill-color);\n",
              "      border-top-color: var(--fill-color);\n",
              "    }\n",
              "    30% {\n",
              "      border-color: transparent;\n",
              "      border-left-color: var(--fill-color);\n",
              "      border-top-color: var(--fill-color);\n",
              "      border-right-color: var(--fill-color);\n",
              "    }\n",
              "    40% {\n",
              "      border-color: transparent;\n",
              "      border-right-color: var(--fill-color);\n",
              "      border-top-color: var(--fill-color);\n",
              "    }\n",
              "    60% {\n",
              "      border-color: transparent;\n",
              "      border-right-color: var(--fill-color);\n",
              "    }\n",
              "    80% {\n",
              "      border-color: transparent;\n",
              "      border-right-color: var(--fill-color);\n",
              "      border-bottom-color: var(--fill-color);\n",
              "    }\n",
              "    90% {\n",
              "      border-color: transparent;\n",
              "      border-bottom-color: var(--fill-color);\n",
              "    }\n",
              "  }\n",
              "</style>\n",
              "\n",
              "  <script>\n",
              "    async function quickchart(key) {\n",
              "      const quickchartButtonEl =\n",
              "        document.querySelector('#' + key + ' button');\n",
              "      quickchartButtonEl.disabled = true;  // To prevent multiple clicks.\n",
              "      quickchartButtonEl.classList.add('colab-df-spinner');\n",
              "      try {\n",
              "        const charts = await google.colab.kernel.invokeFunction(\n",
              "            'suggestCharts', [key], {});\n",
              "      } catch (error) {\n",
              "        console.error('Error during call to suggestCharts:', error);\n",
              "      }\n",
              "      quickchartButtonEl.classList.remove('colab-df-spinner');\n",
              "      quickchartButtonEl.classList.add('colab-df-quickchart-complete');\n",
              "    }\n",
              "    (() => {\n",
              "      let quickchartButtonEl =\n",
              "        document.querySelector('#df-4858bf5c-f41e-4af1-bab3-1b241d581ad4 button');\n",
              "      quickchartButtonEl.style.display =\n",
              "        google.colab.kernel.accessAllowed ? 'block' : 'none';\n",
              "    })();\n",
              "  </script>\n",
              "</div>\n",
              "    </div>\n",
              "  </div>\n"
            ]
          },
          "metadata": {},
          "execution_count": 18
        }
      ]
    },
    {
      "cell_type": "markdown",
      "source": [
        "AGE"
      ],
      "metadata": {
        "id": "4hMIouQGyfwE"
      }
    },
    {
      "cell_type": "code",
      "source": [
        "print(\"Value Counts for Age:\")\n",
        "print(df['Age'].value_counts())"
      ],
      "metadata": {
        "colab": {
          "base_uri": "https://localhost:8080/"
        },
        "id": "OCOdxSaDB4jQ",
        "outputId": "bfc0c866-a015-44de-c9d3-964ecfcafad2"
      },
      "execution_count": null,
      "outputs": [
        {
          "output_type": "stream",
          "name": "stdout",
          "text": [
            "Value Counts for Age:\n",
            "26-35    219587\n",
            "36-45    110013\n",
            "18-25     99660\n",
            "46-50     45701\n",
            "51-55     38501\n",
            "55+       21504\n",
            "0-17      15102\n",
            "Name: Age, dtype: int64\n"
          ]
        }
      ]
    },
    {
      "cell_type": "code",
      "source": [
        "df.groupby(['Age'])['Purchase'].describe()"
      ],
      "metadata": {
        "colab": {
          "base_uri": "https://localhost:8080/",
          "height": 300
        },
        "id": "U2VpTHn_xt0n",
        "outputId": "ba364ca3-9fdc-458f-8e8e-7ae72e5af116"
      },
      "execution_count": null,
      "outputs": [
        {
          "output_type": "execute_result",
          "data": {
            "text/plain": [
              "          count         mean          std   min     25%     50%      75%  \\\n",
              "Age                                                                        \n",
              "0-17    15102.0  8933.464640  5111.114046  12.0  5328.0  7986.0  11874.0   \n",
              "18-25   99660.0  9169.663606  5034.321997  12.0  5415.0  8027.0  12028.0   \n",
              "26-35  219587.0  9252.690633  5010.527303  12.0  5475.0  8030.0  12047.0   \n",
              "36-45  110013.0  9331.350695  5022.923879  12.0  5876.0  8061.0  12107.0   \n",
              "46-50   45701.0  9208.625697  4967.216367  12.0  5888.0  8036.0  11997.0   \n",
              "51-55   38501.0  9534.808031  5087.368080  12.0  6017.0  8130.0  12462.0   \n",
              "55+     21504.0  9336.280459  5011.493996  12.0  6018.0  8105.5  11932.0   \n",
              "\n",
              "           max  \n",
              "Age             \n",
              "0-17   23955.0  \n",
              "18-25  23958.0  \n",
              "26-35  23961.0  \n",
              "36-45  23960.0  \n",
              "46-50  23960.0  \n",
              "51-55  23960.0  \n",
              "55+    23960.0  "
            ],
            "text/html": [
              "\n",
              "  <div id=\"df-cda93ccb-9e15-41a1-a9a3-af6b770d3eef\" class=\"colab-df-container\">\n",
              "    <div>\n",
              "<style scoped>\n",
              "    .dataframe tbody tr th:only-of-type {\n",
              "        vertical-align: middle;\n",
              "    }\n",
              "\n",
              "    .dataframe tbody tr th {\n",
              "        vertical-align: top;\n",
              "    }\n",
              "\n",
              "    .dataframe thead th {\n",
              "        text-align: right;\n",
              "    }\n",
              "</style>\n",
              "<table border=\"1\" class=\"dataframe\">\n",
              "  <thead>\n",
              "    <tr style=\"text-align: right;\">\n",
              "      <th></th>\n",
              "      <th>count</th>\n",
              "      <th>mean</th>\n",
              "      <th>std</th>\n",
              "      <th>min</th>\n",
              "      <th>25%</th>\n",
              "      <th>50%</th>\n",
              "      <th>75%</th>\n",
              "      <th>max</th>\n",
              "    </tr>\n",
              "    <tr>\n",
              "      <th>Age</th>\n",
              "      <th></th>\n",
              "      <th></th>\n",
              "      <th></th>\n",
              "      <th></th>\n",
              "      <th></th>\n",
              "      <th></th>\n",
              "      <th></th>\n",
              "      <th></th>\n",
              "    </tr>\n",
              "  </thead>\n",
              "  <tbody>\n",
              "    <tr>\n",
              "      <th>0-17</th>\n",
              "      <td>15102.0</td>\n",
              "      <td>8933.464640</td>\n",
              "      <td>5111.114046</td>\n",
              "      <td>12.0</td>\n",
              "      <td>5328.0</td>\n",
              "      <td>7986.0</td>\n",
              "      <td>11874.0</td>\n",
              "      <td>23955.0</td>\n",
              "    </tr>\n",
              "    <tr>\n",
              "      <th>18-25</th>\n",
              "      <td>99660.0</td>\n",
              "      <td>9169.663606</td>\n",
              "      <td>5034.321997</td>\n",
              "      <td>12.0</td>\n",
              "      <td>5415.0</td>\n",
              "      <td>8027.0</td>\n",
              "      <td>12028.0</td>\n",
              "      <td>23958.0</td>\n",
              "    </tr>\n",
              "    <tr>\n",
              "      <th>26-35</th>\n",
              "      <td>219587.0</td>\n",
              "      <td>9252.690633</td>\n",
              "      <td>5010.527303</td>\n",
              "      <td>12.0</td>\n",
              "      <td>5475.0</td>\n",
              "      <td>8030.0</td>\n",
              "      <td>12047.0</td>\n",
              "      <td>23961.0</td>\n",
              "    </tr>\n",
              "    <tr>\n",
              "      <th>36-45</th>\n",
              "      <td>110013.0</td>\n",
              "      <td>9331.350695</td>\n",
              "      <td>5022.923879</td>\n",
              "      <td>12.0</td>\n",
              "      <td>5876.0</td>\n",
              "      <td>8061.0</td>\n",
              "      <td>12107.0</td>\n",
              "      <td>23960.0</td>\n",
              "    </tr>\n",
              "    <tr>\n",
              "      <th>46-50</th>\n",
              "      <td>45701.0</td>\n",
              "      <td>9208.625697</td>\n",
              "      <td>4967.216367</td>\n",
              "      <td>12.0</td>\n",
              "      <td>5888.0</td>\n",
              "      <td>8036.0</td>\n",
              "      <td>11997.0</td>\n",
              "      <td>23960.0</td>\n",
              "    </tr>\n",
              "    <tr>\n",
              "      <th>51-55</th>\n",
              "      <td>38501.0</td>\n",
              "      <td>9534.808031</td>\n",
              "      <td>5087.368080</td>\n",
              "      <td>12.0</td>\n",
              "      <td>6017.0</td>\n",
              "      <td>8130.0</td>\n",
              "      <td>12462.0</td>\n",
              "      <td>23960.0</td>\n",
              "    </tr>\n",
              "    <tr>\n",
              "      <th>55+</th>\n",
              "      <td>21504.0</td>\n",
              "      <td>9336.280459</td>\n",
              "      <td>5011.493996</td>\n",
              "      <td>12.0</td>\n",
              "      <td>6018.0</td>\n",
              "      <td>8105.5</td>\n",
              "      <td>11932.0</td>\n",
              "      <td>23960.0</td>\n",
              "    </tr>\n",
              "  </tbody>\n",
              "</table>\n",
              "</div>\n",
              "    <div class=\"colab-df-buttons\">\n",
              "\n",
              "  <div class=\"colab-df-container\">\n",
              "    <button class=\"colab-df-convert\" onclick=\"convertToInteractive('df-cda93ccb-9e15-41a1-a9a3-af6b770d3eef')\"\n",
              "            title=\"Convert this dataframe to an interactive table.\"\n",
              "            style=\"display:none;\">\n",
              "\n",
              "  <svg xmlns=\"http://www.w3.org/2000/svg\" height=\"24px\" viewBox=\"0 -960 960 960\">\n",
              "    <path d=\"M120-120v-720h720v720H120Zm60-500h600v-160H180v160Zm220 220h160v-160H400v160Zm0 220h160v-160H400v160ZM180-400h160v-160H180v160Zm440 0h160v-160H620v160ZM180-180h160v-160H180v160Zm440 0h160v-160H620v160Z\"/>\n",
              "  </svg>\n",
              "    </button>\n",
              "\n",
              "  <style>\n",
              "    .colab-df-container {\n",
              "      display:flex;\n",
              "      gap: 12px;\n",
              "    }\n",
              "\n",
              "    .colab-df-convert {\n",
              "      background-color: #E8F0FE;\n",
              "      border: none;\n",
              "      border-radius: 50%;\n",
              "      cursor: pointer;\n",
              "      display: none;\n",
              "      fill: #1967D2;\n",
              "      height: 32px;\n",
              "      padding: 0 0 0 0;\n",
              "      width: 32px;\n",
              "    }\n",
              "\n",
              "    .colab-df-convert:hover {\n",
              "      background-color: #E2EBFA;\n",
              "      box-shadow: 0px 1px 2px rgba(60, 64, 67, 0.3), 0px 1px 3px 1px rgba(60, 64, 67, 0.15);\n",
              "      fill: #174EA6;\n",
              "    }\n",
              "\n",
              "    .colab-df-buttons div {\n",
              "      margin-bottom: 4px;\n",
              "    }\n",
              "\n",
              "    [theme=dark] .colab-df-convert {\n",
              "      background-color: #3B4455;\n",
              "      fill: #D2E3FC;\n",
              "    }\n",
              "\n",
              "    [theme=dark] .colab-df-convert:hover {\n",
              "      background-color: #434B5C;\n",
              "      box-shadow: 0px 1px 3px 1px rgba(0, 0, 0, 0.15);\n",
              "      filter: drop-shadow(0px 1px 2px rgba(0, 0, 0, 0.3));\n",
              "      fill: #FFFFFF;\n",
              "    }\n",
              "  </style>\n",
              "\n",
              "    <script>\n",
              "      const buttonEl =\n",
              "        document.querySelector('#df-cda93ccb-9e15-41a1-a9a3-af6b770d3eef button.colab-df-convert');\n",
              "      buttonEl.style.display =\n",
              "        google.colab.kernel.accessAllowed ? 'block' : 'none';\n",
              "\n",
              "      async function convertToInteractive(key) {\n",
              "        const element = document.querySelector('#df-cda93ccb-9e15-41a1-a9a3-af6b770d3eef');\n",
              "        const dataTable =\n",
              "          await google.colab.kernel.invokeFunction('convertToInteractive',\n",
              "                                                    [key], {});\n",
              "        if (!dataTable) return;\n",
              "\n",
              "        const docLinkHtml = 'Like what you see? Visit the ' +\n",
              "          '<a target=\"_blank\" href=https://colab.research.google.com/notebooks/data_table.ipynb>data table notebook</a>'\n",
              "          + ' to learn more about interactive tables.';\n",
              "        element.innerHTML = '';\n",
              "        dataTable['output_type'] = 'display_data';\n",
              "        await google.colab.output.renderOutput(dataTable, element);\n",
              "        const docLink = document.createElement('div');\n",
              "        docLink.innerHTML = docLinkHtml;\n",
              "        element.appendChild(docLink);\n",
              "      }\n",
              "    </script>\n",
              "  </div>\n",
              "\n",
              "\n",
              "<div id=\"df-0eed6bf3-77ba-413e-8550-b24f0837eb79\">\n",
              "  <button class=\"colab-df-quickchart\" onclick=\"quickchart('df-0eed6bf3-77ba-413e-8550-b24f0837eb79')\"\n",
              "            title=\"Suggest charts.\"\n",
              "            style=\"display:none;\">\n",
              "\n",
              "<svg xmlns=\"http://www.w3.org/2000/svg\" height=\"24px\"viewBox=\"0 0 24 24\"\n",
              "     width=\"24px\">\n",
              "    <g>\n",
              "        <path d=\"M19 3H5c-1.1 0-2 .9-2 2v14c0 1.1.9 2 2 2h14c1.1 0 2-.9 2-2V5c0-1.1-.9-2-2-2zM9 17H7v-7h2v7zm4 0h-2V7h2v10zm4 0h-2v-4h2v4z\"/>\n",
              "    </g>\n",
              "</svg>\n",
              "  </button>\n",
              "\n",
              "<style>\n",
              "  .colab-df-quickchart {\n",
              "      --bg-color: #E8F0FE;\n",
              "      --fill-color: #1967D2;\n",
              "      --hover-bg-color: #E2EBFA;\n",
              "      --hover-fill-color: #174EA6;\n",
              "      --disabled-fill-color: #AAA;\n",
              "      --disabled-bg-color: #DDD;\n",
              "  }\n",
              "\n",
              "  [theme=dark] .colab-df-quickchart {\n",
              "      --bg-color: #3B4455;\n",
              "      --fill-color: #D2E3FC;\n",
              "      --hover-bg-color: #434B5C;\n",
              "      --hover-fill-color: #FFFFFF;\n",
              "      --disabled-bg-color: #3B4455;\n",
              "      --disabled-fill-color: #666;\n",
              "  }\n",
              "\n",
              "  .colab-df-quickchart {\n",
              "    background-color: var(--bg-color);\n",
              "    border: none;\n",
              "    border-radius: 50%;\n",
              "    cursor: pointer;\n",
              "    display: none;\n",
              "    fill: var(--fill-color);\n",
              "    height: 32px;\n",
              "    padding: 0;\n",
              "    width: 32px;\n",
              "  }\n",
              "\n",
              "  .colab-df-quickchart:hover {\n",
              "    background-color: var(--hover-bg-color);\n",
              "    box-shadow: 0 1px 2px rgba(60, 64, 67, 0.3), 0 1px 3px 1px rgba(60, 64, 67, 0.15);\n",
              "    fill: var(--button-hover-fill-color);\n",
              "  }\n",
              "\n",
              "  .colab-df-quickchart-complete:disabled,\n",
              "  .colab-df-quickchart-complete:disabled:hover {\n",
              "    background-color: var(--disabled-bg-color);\n",
              "    fill: var(--disabled-fill-color);\n",
              "    box-shadow: none;\n",
              "  }\n",
              "\n",
              "  .colab-df-spinner {\n",
              "    border: 2px solid var(--fill-color);\n",
              "    border-color: transparent;\n",
              "    border-bottom-color: var(--fill-color);\n",
              "    animation:\n",
              "      spin 1s steps(1) infinite;\n",
              "  }\n",
              "\n",
              "  @keyframes spin {\n",
              "    0% {\n",
              "      border-color: transparent;\n",
              "      border-bottom-color: var(--fill-color);\n",
              "      border-left-color: var(--fill-color);\n",
              "    }\n",
              "    20% {\n",
              "      border-color: transparent;\n",
              "      border-left-color: var(--fill-color);\n",
              "      border-top-color: var(--fill-color);\n",
              "    }\n",
              "    30% {\n",
              "      border-color: transparent;\n",
              "      border-left-color: var(--fill-color);\n",
              "      border-top-color: var(--fill-color);\n",
              "      border-right-color: var(--fill-color);\n",
              "    }\n",
              "    40% {\n",
              "      border-color: transparent;\n",
              "      border-right-color: var(--fill-color);\n",
              "      border-top-color: var(--fill-color);\n",
              "    }\n",
              "    60% {\n",
              "      border-color: transparent;\n",
              "      border-right-color: var(--fill-color);\n",
              "    }\n",
              "    80% {\n",
              "      border-color: transparent;\n",
              "      border-right-color: var(--fill-color);\n",
              "      border-bottom-color: var(--fill-color);\n",
              "    }\n",
              "    90% {\n",
              "      border-color: transparent;\n",
              "      border-bottom-color: var(--fill-color);\n",
              "    }\n",
              "  }\n",
              "</style>\n",
              "\n",
              "  <script>\n",
              "    async function quickchart(key) {\n",
              "      const quickchartButtonEl =\n",
              "        document.querySelector('#' + key + ' button');\n",
              "      quickchartButtonEl.disabled = true;  // To prevent multiple clicks.\n",
              "      quickchartButtonEl.classList.add('colab-df-spinner');\n",
              "      try {\n",
              "        const charts = await google.colab.kernel.invokeFunction(\n",
              "            'suggestCharts', [key], {});\n",
              "      } catch (error) {\n",
              "        console.error('Error during call to suggestCharts:', error);\n",
              "      }\n",
              "      quickchartButtonEl.classList.remove('colab-df-spinner');\n",
              "      quickchartButtonEl.classList.add('colab-df-quickchart-complete');\n",
              "    }\n",
              "    (() => {\n",
              "      let quickchartButtonEl =\n",
              "        document.querySelector('#df-0eed6bf3-77ba-413e-8550-b24f0837eb79 button');\n",
              "      quickchartButtonEl.style.display =\n",
              "        google.colab.kernel.accessAllowed ? 'block' : 'none';\n",
              "    })();\n",
              "  </script>\n",
              "</div>\n",
              "    </div>\n",
              "  </div>\n"
            ]
          },
          "metadata": {},
          "execution_count": 20
        }
      ]
    },
    {
      "cell_type": "markdown",
      "source": [
        "MARITAL STATUS"
      ],
      "metadata": {
        "id": "SgHNoQOnyihh"
      }
    },
    {
      "cell_type": "code",
      "source": [
        "print(\"Value Counts for Marital Status:\")\n",
        "print(df['Marital_Status'].value_counts())"
      ],
      "metadata": {
        "colab": {
          "base_uri": "https://localhost:8080/"
        },
        "id": "XPUZFrhtCEOn",
        "outputId": "523337d4-e70f-4058-b1d7-6bc82f2a06b4"
      },
      "execution_count": null,
      "outputs": [
        {
          "output_type": "stream",
          "name": "stdout",
          "text": [
            "Value Counts for Marital Status:\n",
            "0    324731\n",
            "1    225337\n",
            "Name: Marital_Status, dtype: int64\n"
          ]
        }
      ]
    },
    {
      "cell_type": "code",
      "source": [
        "df.groupby(['Marital_Status'])['Purchase'].describe()"
      ],
      "metadata": {
        "colab": {
          "base_uri": "https://localhost:8080/",
          "height": 143
        },
        "id": "ETstE4adxw_X",
        "outputId": "a98702fd-2de8-4d39-eeb9-f1ec0cba8a9e"
      },
      "execution_count": null,
      "outputs": [
        {
          "output_type": "execute_result",
          "data": {
            "text/plain": [
              "                   count         mean          std   min     25%     50%  \\\n",
              "Marital_Status                                                             \n",
              "0               324731.0  9265.907619  5027.347859  12.0  5605.0  8044.0   \n",
              "1               225337.0  9261.174574  5016.897378  12.0  5843.0  8051.0   \n",
              "\n",
              "                    75%      max  \n",
              "Marital_Status                    \n",
              "0               12061.0  23961.0  \n",
              "1               12042.0  23961.0  "
            ],
            "text/html": [
              "\n",
              "  <div id=\"df-d4365c02-f009-4f40-a63b-575049a2ba45\" class=\"colab-df-container\">\n",
              "    <div>\n",
              "<style scoped>\n",
              "    .dataframe tbody tr th:only-of-type {\n",
              "        vertical-align: middle;\n",
              "    }\n",
              "\n",
              "    .dataframe tbody tr th {\n",
              "        vertical-align: top;\n",
              "    }\n",
              "\n",
              "    .dataframe thead th {\n",
              "        text-align: right;\n",
              "    }\n",
              "</style>\n",
              "<table border=\"1\" class=\"dataframe\">\n",
              "  <thead>\n",
              "    <tr style=\"text-align: right;\">\n",
              "      <th></th>\n",
              "      <th>count</th>\n",
              "      <th>mean</th>\n",
              "      <th>std</th>\n",
              "      <th>min</th>\n",
              "      <th>25%</th>\n",
              "      <th>50%</th>\n",
              "      <th>75%</th>\n",
              "      <th>max</th>\n",
              "    </tr>\n",
              "    <tr>\n",
              "      <th>Marital_Status</th>\n",
              "      <th></th>\n",
              "      <th></th>\n",
              "      <th></th>\n",
              "      <th></th>\n",
              "      <th></th>\n",
              "      <th></th>\n",
              "      <th></th>\n",
              "      <th></th>\n",
              "    </tr>\n",
              "  </thead>\n",
              "  <tbody>\n",
              "    <tr>\n",
              "      <th>0</th>\n",
              "      <td>324731.0</td>\n",
              "      <td>9265.907619</td>\n",
              "      <td>5027.347859</td>\n",
              "      <td>12.0</td>\n",
              "      <td>5605.0</td>\n",
              "      <td>8044.0</td>\n",
              "      <td>12061.0</td>\n",
              "      <td>23961.0</td>\n",
              "    </tr>\n",
              "    <tr>\n",
              "      <th>1</th>\n",
              "      <td>225337.0</td>\n",
              "      <td>9261.174574</td>\n",
              "      <td>5016.897378</td>\n",
              "      <td>12.0</td>\n",
              "      <td>5843.0</td>\n",
              "      <td>8051.0</td>\n",
              "      <td>12042.0</td>\n",
              "      <td>23961.0</td>\n",
              "    </tr>\n",
              "  </tbody>\n",
              "</table>\n",
              "</div>\n",
              "    <div class=\"colab-df-buttons\">\n",
              "\n",
              "  <div class=\"colab-df-container\">\n",
              "    <button class=\"colab-df-convert\" onclick=\"convertToInteractive('df-d4365c02-f009-4f40-a63b-575049a2ba45')\"\n",
              "            title=\"Convert this dataframe to an interactive table.\"\n",
              "            style=\"display:none;\">\n",
              "\n",
              "  <svg xmlns=\"http://www.w3.org/2000/svg\" height=\"24px\" viewBox=\"0 -960 960 960\">\n",
              "    <path d=\"M120-120v-720h720v720H120Zm60-500h600v-160H180v160Zm220 220h160v-160H400v160Zm0 220h160v-160H400v160ZM180-400h160v-160H180v160Zm440 0h160v-160H620v160ZM180-180h160v-160H180v160Zm440 0h160v-160H620v160Z\"/>\n",
              "  </svg>\n",
              "    </button>\n",
              "\n",
              "  <style>\n",
              "    .colab-df-container {\n",
              "      display:flex;\n",
              "      gap: 12px;\n",
              "    }\n",
              "\n",
              "    .colab-df-convert {\n",
              "      background-color: #E8F0FE;\n",
              "      border: none;\n",
              "      border-radius: 50%;\n",
              "      cursor: pointer;\n",
              "      display: none;\n",
              "      fill: #1967D2;\n",
              "      height: 32px;\n",
              "      padding: 0 0 0 0;\n",
              "      width: 32px;\n",
              "    }\n",
              "\n",
              "    .colab-df-convert:hover {\n",
              "      background-color: #E2EBFA;\n",
              "      box-shadow: 0px 1px 2px rgba(60, 64, 67, 0.3), 0px 1px 3px 1px rgba(60, 64, 67, 0.15);\n",
              "      fill: #174EA6;\n",
              "    }\n",
              "\n",
              "    .colab-df-buttons div {\n",
              "      margin-bottom: 4px;\n",
              "    }\n",
              "\n",
              "    [theme=dark] .colab-df-convert {\n",
              "      background-color: #3B4455;\n",
              "      fill: #D2E3FC;\n",
              "    }\n",
              "\n",
              "    [theme=dark] .colab-df-convert:hover {\n",
              "      background-color: #434B5C;\n",
              "      box-shadow: 0px 1px 3px 1px rgba(0, 0, 0, 0.15);\n",
              "      filter: drop-shadow(0px 1px 2px rgba(0, 0, 0, 0.3));\n",
              "      fill: #FFFFFF;\n",
              "    }\n",
              "  </style>\n",
              "\n",
              "    <script>\n",
              "      const buttonEl =\n",
              "        document.querySelector('#df-d4365c02-f009-4f40-a63b-575049a2ba45 button.colab-df-convert');\n",
              "      buttonEl.style.display =\n",
              "        google.colab.kernel.accessAllowed ? 'block' : 'none';\n",
              "\n",
              "      async function convertToInteractive(key) {\n",
              "        const element = document.querySelector('#df-d4365c02-f009-4f40-a63b-575049a2ba45');\n",
              "        const dataTable =\n",
              "          await google.colab.kernel.invokeFunction('convertToInteractive',\n",
              "                                                    [key], {});\n",
              "        if (!dataTable) return;\n",
              "\n",
              "        const docLinkHtml = 'Like what you see? Visit the ' +\n",
              "          '<a target=\"_blank\" href=https://colab.research.google.com/notebooks/data_table.ipynb>data table notebook</a>'\n",
              "          + ' to learn more about interactive tables.';\n",
              "        element.innerHTML = '';\n",
              "        dataTable['output_type'] = 'display_data';\n",
              "        await google.colab.output.renderOutput(dataTable, element);\n",
              "        const docLink = document.createElement('div');\n",
              "        docLink.innerHTML = docLinkHtml;\n",
              "        element.appendChild(docLink);\n",
              "      }\n",
              "    </script>\n",
              "  </div>\n",
              "\n",
              "\n",
              "<div id=\"df-430b7bd9-4494-41fb-9c41-aea849b6e5c5\">\n",
              "  <button class=\"colab-df-quickchart\" onclick=\"quickchart('df-430b7bd9-4494-41fb-9c41-aea849b6e5c5')\"\n",
              "            title=\"Suggest charts.\"\n",
              "            style=\"display:none;\">\n",
              "\n",
              "<svg xmlns=\"http://www.w3.org/2000/svg\" height=\"24px\"viewBox=\"0 0 24 24\"\n",
              "     width=\"24px\">\n",
              "    <g>\n",
              "        <path d=\"M19 3H5c-1.1 0-2 .9-2 2v14c0 1.1.9 2 2 2h14c1.1 0 2-.9 2-2V5c0-1.1-.9-2-2-2zM9 17H7v-7h2v7zm4 0h-2V7h2v10zm4 0h-2v-4h2v4z\"/>\n",
              "    </g>\n",
              "</svg>\n",
              "  </button>\n",
              "\n",
              "<style>\n",
              "  .colab-df-quickchart {\n",
              "      --bg-color: #E8F0FE;\n",
              "      --fill-color: #1967D2;\n",
              "      --hover-bg-color: #E2EBFA;\n",
              "      --hover-fill-color: #174EA6;\n",
              "      --disabled-fill-color: #AAA;\n",
              "      --disabled-bg-color: #DDD;\n",
              "  }\n",
              "\n",
              "  [theme=dark] .colab-df-quickchart {\n",
              "      --bg-color: #3B4455;\n",
              "      --fill-color: #D2E3FC;\n",
              "      --hover-bg-color: #434B5C;\n",
              "      --hover-fill-color: #FFFFFF;\n",
              "      --disabled-bg-color: #3B4455;\n",
              "      --disabled-fill-color: #666;\n",
              "  }\n",
              "\n",
              "  .colab-df-quickchart {\n",
              "    background-color: var(--bg-color);\n",
              "    border: none;\n",
              "    border-radius: 50%;\n",
              "    cursor: pointer;\n",
              "    display: none;\n",
              "    fill: var(--fill-color);\n",
              "    height: 32px;\n",
              "    padding: 0;\n",
              "    width: 32px;\n",
              "  }\n",
              "\n",
              "  .colab-df-quickchart:hover {\n",
              "    background-color: var(--hover-bg-color);\n",
              "    box-shadow: 0 1px 2px rgba(60, 64, 67, 0.3), 0 1px 3px 1px rgba(60, 64, 67, 0.15);\n",
              "    fill: var(--button-hover-fill-color);\n",
              "  }\n",
              "\n",
              "  .colab-df-quickchart-complete:disabled,\n",
              "  .colab-df-quickchart-complete:disabled:hover {\n",
              "    background-color: var(--disabled-bg-color);\n",
              "    fill: var(--disabled-fill-color);\n",
              "    box-shadow: none;\n",
              "  }\n",
              "\n",
              "  .colab-df-spinner {\n",
              "    border: 2px solid var(--fill-color);\n",
              "    border-color: transparent;\n",
              "    border-bottom-color: var(--fill-color);\n",
              "    animation:\n",
              "      spin 1s steps(1) infinite;\n",
              "  }\n",
              "\n",
              "  @keyframes spin {\n",
              "    0% {\n",
              "      border-color: transparent;\n",
              "      border-bottom-color: var(--fill-color);\n",
              "      border-left-color: var(--fill-color);\n",
              "    }\n",
              "    20% {\n",
              "      border-color: transparent;\n",
              "      border-left-color: var(--fill-color);\n",
              "      border-top-color: var(--fill-color);\n",
              "    }\n",
              "    30% {\n",
              "      border-color: transparent;\n",
              "      border-left-color: var(--fill-color);\n",
              "      border-top-color: var(--fill-color);\n",
              "      border-right-color: var(--fill-color);\n",
              "    }\n",
              "    40% {\n",
              "      border-color: transparent;\n",
              "      border-right-color: var(--fill-color);\n",
              "      border-top-color: var(--fill-color);\n",
              "    }\n",
              "    60% {\n",
              "      border-color: transparent;\n",
              "      border-right-color: var(--fill-color);\n",
              "    }\n",
              "    80% {\n",
              "      border-color: transparent;\n",
              "      border-right-color: var(--fill-color);\n",
              "      border-bottom-color: var(--fill-color);\n",
              "    }\n",
              "    90% {\n",
              "      border-color: transparent;\n",
              "      border-bottom-color: var(--fill-color);\n",
              "    }\n",
              "  }\n",
              "</style>\n",
              "\n",
              "  <script>\n",
              "    async function quickchart(key) {\n",
              "      const quickchartButtonEl =\n",
              "        document.querySelector('#' + key + ' button');\n",
              "      quickchartButtonEl.disabled = true;  // To prevent multiple clicks.\n",
              "      quickchartButtonEl.classList.add('colab-df-spinner');\n",
              "      try {\n",
              "        const charts = await google.colab.kernel.invokeFunction(\n",
              "            'suggestCharts', [key], {});\n",
              "      } catch (error) {\n",
              "        console.error('Error during call to suggestCharts:', error);\n",
              "      }\n",
              "      quickchartButtonEl.classList.remove('colab-df-spinner');\n",
              "      quickchartButtonEl.classList.add('colab-df-quickchart-complete');\n",
              "    }\n",
              "    (() => {\n",
              "      let quickchartButtonEl =\n",
              "        document.querySelector('#df-430b7bd9-4494-41fb-9c41-aea849b6e5c5 button');\n",
              "      quickchartButtonEl.style.display =\n",
              "        google.colab.kernel.accessAllowed ? 'block' : 'none';\n",
              "    })();\n",
              "  </script>\n",
              "</div>\n",
              "    </div>\n",
              "  </div>\n"
            ]
          },
          "metadata": {},
          "execution_count": 21
        }
      ]
    },
    {
      "cell_type": "markdown",
      "source": [
        "### Visualisation"
      ],
      "metadata": {
        "id": "gPgA6ePZCOVA"
      }
    },
    {
      "cell_type": "markdown",
      "source": [
        "#### Univariate"
      ],
      "metadata": {
        "id": "3nnnQUV5CYY4"
      }
    },
    {
      "cell_type": "code",
      "source": [
        "sns.histplot(df[\"Purchase\"], bins=30, kde=True)\n",
        "plt.title(\"Purchase Amount Distribution\")\n",
        "plt.xlabel(\"Purchase Amount\")\n",
        "plt.ylabel(\"Frequency\")\n",
        "plt.show()"
      ],
      "metadata": {
        "colab": {
          "base_uri": "https://localhost:8080/",
          "height": 472
        },
        "id": "OnlYrhDazlRi",
        "outputId": "1df9b3e3-c4df-478e-c96b-b8bd05cd79c4"
      },
      "execution_count": null,
      "outputs": [
        {
          "output_type": "display_data",
          "data": {
            "text/plain": [
              "<Figure size 640x480 with 1 Axes>"
            ],
            "image/png": "[encoded data removed]"
          },
          "metadata": {}
        }
      ]
    },
    {
      "cell_type": "code",
      "source": [
        "plt.figure(figsize=(6,2))\n",
        "sns.boxplot(x=df['Purchase'])\n",
        "plt.title(\"Boxplot of Purchase Amount\")\n",
        "plt.show()"
      ],
      "metadata": {
        "colab": {
          "base_uri": "https://localhost:8080/",
          "height": 256
        },
        "id": "D9bsE0yHDTJs",
        "outputId": "52e34ee0-5470-49e6-b690-fc8f32db7460"
      },
      "execution_count": null,
      "outputs": [
        {
          "output_type": "display_data",
          "data": {
            "text/plain": [
              "<Figure size 600x200 with 1 Axes>"
            ],
            "image/png": "[encoded data removed]"
          },
          "metadata": {}
        }
      ]
    },
    {
      "cell_type": "markdown",
      "source": [
        "GENDER"
      ],
      "metadata": {
        "id": "FABv2UfxzkIe"
      }
    },
    {
      "cell_type": "code",
      "source": [
        "sns.countplot(x=\"Gender\",data=df)\n",
        "plt.title(\"Gender Distribution\")\n",
        "plt.xlabel(\"Gender\")\n",
        "plt.ylabel(\"Count\")\n",
        "plt.show()"
      ],
      "metadata": {
        "colab": {
          "base_uri": "https://localhost:8080/",
          "height": 472
        },
        "id": "_9wbxZMk1w1S",
        "outputId": "75b4fd93-f4d6-4045-aad5-2b1522f2829f"
      },
      "execution_count": null,
      "outputs": [
        {
          "output_type": "display_data",
          "data": {
            "text/plain": [
              "<Figure size 640x480 with 1 Axes>"
            ],
            "image/png": "[encoded data removed]"
          },
          "metadata": {}
        }
      ]
    },
    {
      "cell_type": "markdown",
      "source": [
        "We have almose 75% male dominant data"
      ],
      "metadata": {
        "id": "v-wxPW3Ny70z"
      }
    },
    {
      "cell_type": "code",
      "source": [
        "sns.boxplot(x=\"Gender\", y=\"Purchase\", data=df)\n",
        "plt.title(\"Purchase Amount by Gender\")\n",
        "plt.xlabel(\"Gender\")\n",
        "plt.ylabel(\"Purchase Amount\")\n",
        "plt.show()"
      ],
      "metadata": {
        "colab": {
          "base_uri": "https://localhost:8080/",
          "height": 472
        },
        "id": "boTPR0xZ161u",
        "outputId": "1e73ec77-1ed8-47b4-9a2c-a76d4ef4f680"
      },
      "execution_count": null,
      "outputs": [
        {
          "output_type": "display_data",
          "data": {
            "text/plain": [
              "<Figure size 640x480 with 1 Axes>"
            ],
            "image/png": "[encoded data removed]"
          },
          "metadata": {}
        }
      ]
    },
    {
      "cell_type": "markdown",
      "source": [
        "Martital Status"
      ],
      "metadata": {
        "id": "OyZ06XdFzmqO"
      }
    },
    {
      "cell_type": "code",
      "source": [
        "sns.countplot(x=\"Marital_Status\",data=df)\n",
        "plt.title(\"Relationship Status Distribution\")\n",
        "plt.xlabel(\"Married vs Unmarried\")\n",
        "plt.ylabel(\"Count\")\n",
        "plt.show()"
      ],
      "metadata": {
        "colab": {
          "base_uri": "https://localhost:8080/",
          "height": 472
        },
        "id": "wwzH3_j2zB_1",
        "outputId": "5a801482-a847-45a2-b753-6fe0d8dc59aa"
      },
      "execution_count": null,
      "outputs": [
        {
          "output_type": "display_data",
          "data": {
            "text/plain": [
              "<Figure size 640x480 with 1 Axes>"
            ],
            "image/png": "[encoded data removed]"
          },
          "metadata": {}
        }
      ]
    },
    {
      "cell_type": "code",
      "source": [
        "sns.boxplot(x=\"Marital_Status\", y=\"Purchase\", data=df)\n",
        "plt.title(\"Purchase Amount by Martital Status\")\n",
        "plt.xlabel(\"Martital Status\")\n",
        "plt.ylabel(\"Purchase Amount\")\n",
        "plt.show()"
      ],
      "metadata": {
        "colab": {
          "base_uri": "https://localhost:8080/",
          "height": 472
        },
        "id": "WZW-kyXVAq3O",
        "outputId": "b7a5a127-3605-4cc8-b54c-b27ed07ddc9b"
      },
      "execution_count": null,
      "outputs": [
        {
          "output_type": "display_data",
          "data": {
            "text/plain": [
              "<Figure size 640x480 with 1 Axes>"
            ],
            "image/png": "[encoded data removed]"
          },
          "metadata": {}
        }
      ]
    },
    {
      "cell_type": "code",
      "source": [
        "sns.boxplot(x=\"Marital_Status\", y=\"Purchase\", data=df, hue=\"Gender\")\n",
        "plt.title(\"Purchase Amount by Martital Status\")\n",
        "plt.xlabel(\"Martital Status\")\n",
        "plt.ylabel(\"Purchase Amount\")\n",
        "plt.show()"
      ],
      "metadata": {
        "colab": {
          "base_uri": "https://localhost:8080/",
          "height": 472
        },
        "id": "G8TthkDa9IDG",
        "outputId": "c9300877-fae4-4466-f2c1-00afe0b89ac7"
      },
      "execution_count": null,
      "outputs": [
        {
          "output_type": "display_data",
          "data": {
            "text/plain": [
              "<Figure size 640x480 with 1 Axes>"
            ],
            "image/png": "[encoded data removed]"
          },
          "metadata": {}
        }
      ]
    },
    {
      "cell_type": "markdown",
      "source": [
        "Age"
      ],
      "metadata": {
        "id": "XV1TYFFWzqon"
      }
    },
    {
      "cell_type": "code",
      "source": [
        "sns.countplot(x=\"Age\",data=df)\n",
        "plt.title(\"Age Distribution\")\n",
        "plt.xlabel(\"Age\")\n",
        "plt.ylabel(\"Count\")\n",
        "plt.show()"
      ],
      "metadata": {
        "colab": {
          "base_uri": "https://localhost:8080/",
          "height": 472
        },
        "id": "10m3x5RyzPH4",
        "outputId": "bdc996fd-730d-4ad1-c3af-4f1b58f0dca1"
      },
      "execution_count": null,
      "outputs": [
        {
          "output_type": "display_data",
          "data": {
            "text/plain": [
              "<Figure size 640x480 with 1 Axes>"
            ],
            "image/png": "[encoded data removed]"
          },
          "metadata": {}
        }
      ]
    },
    {
      "cell_type": "code",
      "source": [
        "sns.boxplot(x=\"Age\", y=\"Purchase\", data=df)\n",
        "plt.title(\"Purchase Amount by Age\")\n",
        "plt.xlabel(\"Age\")\n",
        "plt.ylabel(\"Purchase Amount\")\n",
        "plt.show()"
      ],
      "metadata": {
        "colab": {
          "base_uri": "https://localhost:8080/",
          "height": 472
        },
        "id": "rHIka6X0AMYS",
        "outputId": "68f3d907-949f-489a-b623-714b22649900"
      },
      "execution_count": null,
      "outputs": [
        {
          "output_type": "display_data",
          "data": {
            "text/plain": [
              "<Figure size 640x480 with 1 Axes>"
            ],
            "image/png": "[encoded data removed]"
          },
          "metadata": {}
        }
      ]
    },
    {
      "cell_type": "code",
      "source": [
        "sns.boxplot(x=\"Age\", y=\"Purchase\", data=df,hue='Gender')\n",
        "plt.title(\"Purchase Amount by Age\")\n",
        "plt.xlabel(\"Age\")\n",
        "plt.ylabel(\"Purchase Amount\")\n",
        "plt.show()"
      ],
      "metadata": {
        "colab": {
          "base_uri": "https://localhost:8080/",
          "height": 472
        },
        "id": "6ndYjWuJAdsA",
        "outputId": "d475c88f-2a9f-4a6e-d6ce-a955da56e38f"
      },
      "execution_count": null,
      "outputs": [
        {
          "output_type": "display_data",
          "data": {
            "text/plain": [
              "<Figure size 640x480 with 1 Axes>"
            ],
            "image/png": "[encoded data removed]"
          },
          "metadata": {}
        }
      ]
    },
    {
      "cell_type": "markdown",
      "source": [
        "We can see that there is alot of overlapping in the data."
      ],
      "metadata": {
        "id": "anBhmnpxzvCD"
      }
    },
    {
      "cell_type": "markdown",
      "source": [
        "### Correlation Analysis"
      ],
      "metadata": {
        "id": "B__9b5XSCqmO"
      }
    },
    {
      "cell_type": "code",
      "source": [
        "correlation_matrix = df.corr()\n",
        "plt.figure(figsize=(6, 4))\n",
        "sns.heatmap(correlation_matrix, annot=True, cmap='coolwarm', linewidths=0.5)\n",
        "plt.title(\"Correlation Matrix\")\n",
        "plt.show()"
      ],
      "metadata": {
        "colab": {
          "base_uri": "https://localhost:8080/",
          "height": 555
        },
        "id": "gDCC0ThRCoQ_",
        "outputId": "fee61a3b-13ca-4ce6-b1a6-fa0416eca0fc"
      },
      "execution_count": null,
      "outputs": [
        {
          "output_type": "stream",
          "name": "stderr",
          "text": [
            "<ipython-input-129-afd37bdd12f2>:1: FutureWarning: The default value of numeric_only in DataFrame.corr is deprecated. In a future version, it will default to False. Select only valid columns or specify the value of numeric_only to silence this warning.\n",
            "  correlation_matrix = df.corr()\n"
          ]
        },
        {
          "output_type": "display_data",
          "data": {
            "text/plain": [
              "<Figure size 600x400 with 2 Axes>"
            ],
            "image/png": "[encoded data removed]"
          },
          "metadata": {}
        }
      ]
    },
    {
      "cell_type": "markdown",
      "source": [
        "There is not much correlation between numerical data"
      ],
      "metadata": {
        "id": "-w4Z-8JU0akT"
      }
    },
    {
      "cell_type": "markdown",
      "source": [
        "# Step 4: Analyzing Male vs. Female Spendings"
      ],
      "metadata": {
        "id": "sAYXOgOo2_80"
      }
    },
    {
      "cell_type": "code",
      "source": [
        "male_avg_spending = df[df[\"Gender\"] == \"M\"][\"Purchase\"].mean()\n",
        "female_avg_spending = df[df[\"Gender\"] == \"F\"][\"Purchase\"].mean()\n",
        "print(f\"Average Male Spending: ${male_avg_spending:.2f}\")\n",
        "print(f\"Average Female Spending: ${female_avg_spending:.2f}\")"
      ],
      "metadata": {
        "colab": {
          "base_uri": "https://localhost:8080/"
        },
        "id": "2oUuXAv32ujL",
        "outputId": "dc3a488f-9f55-43e5-9533-cc20e3ef0961"
      },
      "execution_count": null,
      "outputs": [
        {
          "output_type": "stream",
          "name": "stdout",
          "text": [
            "Average Male Spending: $9437.53\n",
            "Average Female Spending: $8734.57\n"
          ]
        }
      ]
    },
    {
      "cell_type": "code",
      "source": [
        "male_med_spending = df[df[\"Gender\"] == \"M\"][\"Purchase\"].median()\n",
        "female_med_spending = df[df[\"Gender\"] == \"F\"][\"Purchase\"].median()\n",
        "print(f\"Median Value of Male Spending: ${male_med_spending:.2f}\")\n",
        "print(f\"Median Value of Female Spending: ${female_med_spending:.2f}\")"
      ],
      "metadata": {
        "colab": {
          "base_uri": "https://localhost:8080/"
        },
        "id": "wGt22Mae3IhG",
        "outputId": "1932df67-60cb-450a-e82e-790eba619281"
      },
      "execution_count": null,
      "outputs": [
        {
          "output_type": "stream",
          "name": "stdout",
          "text": [
            "Median Value of Male Spending: $8098.00\n",
            "Median Value of Female Spending: $7914.00\n"
          ]
        }
      ]
    },
    {
      "cell_type": "markdown",
      "source": [
        "Male Average Spending is more than Female Customer."
      ],
      "metadata": {
        "id": "BJN5TltW0AbH"
      }
    },
    {
      "cell_type": "markdown",
      "source": [
        "# Step 5: Confidence Intervals using Central Limit Theorem"
      ],
      "metadata": {
        "id": "XkLqZary3nzI"
      }
    },
    {
      "cell_type": "code",
      "source": [
        "sample_size = 1000\n",
        "male_sample = df[df[\"Gender\"] == \"M\"][\"Purchase\"].sample(sample_size)\n",
        "female_sample = df[df[\"Gender\"] == \"F\"][\"Purchase\"].sample(sample_size)"
      ],
      "metadata": {
        "id": "50q2CvWM3g1W"
      },
      "execution_count": null,
      "outputs": []
    },
    {
      "cell_type": "code",
      "source": [
        "male_std_error = male_sample.std() / np.sqrt(sample_size)\n",
        "female_std_error = female_sample.std() / np.sqrt(sample_size)"
      ],
      "metadata": {
        "id": "nEtrU7oj3wHQ"
      },
      "execution_count": null,
      "outputs": []
    },
    {
      "cell_type": "code",
      "source": [
        "print(male_std_error,\"Male\")\n",
        "print(female_std_error,\"Female\")"
      ],
      "metadata": {
        "colab": {
          "base_uri": "https://localhost:8080/"
        },
        "id": "WqNF3vKU35AP",
        "outputId": "f6ad908b-ffb4-4b12-aaec-15e57935d735"
      },
      "execution_count": null,
      "outputs": [
        {
          "output_type": "stream",
          "name": "stdout",
          "text": [
            "162.87258436641264 Male\n",
            "154.10425298853096 Female\n"
          ]
        }
      ]
    },
    {
      "cell_type": "code",
      "source": [
        "confidence_level=[0.90,0.95,0.99]\n",
        "for level in confidence_level:\n",
        "  z_score = stats.norm.ppf((1 + level) / 2)\n",
        "\n",
        "  male_confidence_interval = (male_sample.mean() - z_score * male_std_error,\n",
        "                            male_sample.mean() + z_score * male_std_error)\n",
        "  female_confidence_interval = (female_sample.mean() - z_score * female_std_error,\n",
        "                              female_sample.mean() + z_score * female_std_error)\n",
        "\n",
        "  print(\"Confidence_level --\",level*100,\"%\")\n",
        "  print(f\"Male Confidence Interval : ({male_confidence_interval[0]:.2f}, {male_confidence_interval[1]:.2f})\")\n",
        "  print(f\"Female Confidence Interval : ({female_confidence_interval[0]:.2f}, {female_confidence_interval[1]:.2f})\")\n",
        "  if male_confidence_interval[1] < female_confidence_interval[0] or female_confidence_interval[1] < male_confidence_interval[0]:\n",
        "    print(\"Confidence intervals do not overlap. There is a significant difference in spending between genders.\")\n",
        "  else:\n",
        "    print(\"Confidence intervals overlap. There may not be a significant difference in spending between genders.\")\n",
        "\n",
        "  print()"
      ],
      "metadata": {
        "id": "pRcUGly339Yg",
        "colab": {
          "base_uri": "https://localhost:8080/"
        },
        "outputId": "f10ed07f-a614-449c-9683-33fee5465d41"
      },
      "execution_count": null,
      "outputs": [
        {
          "output_type": "stream",
          "name": "stdout",
          "text": [
            "Confidence_level -- 90.0 %\n",
            "Male Confidence Interval : (8965.71, 9501.51)\n",
            "Female Confidence Interval : (8421.22, 8928.17)\n",
            "Confidence intervals do not overlap. There is a significant difference in spending between genders.\n",
            "\n",
            "Confidence_level -- 95.0 %\n",
            "Male Confidence Interval : (8914.39, 9552.84)\n",
            "Female Confidence Interval : (8372.66, 8976.73)\n",
            "Confidence intervals overlap. There may not be a significant difference in spending between genders.\n",
            "\n",
            "Confidence_level -- 99.0 %\n",
            "Male Confidence Interval : (8814.08, 9653.14)\n",
            "Female Confidence Interval : (8277.75, 9071.64)\n",
            "Confidence intervals overlap. There may not be a significant difference in spending between genders.\n",
            "\n"
          ]
        }
      ]
    },
    {
      "cell_type": "markdown",
      "source": [
        "As we increase Confidence level , There is less Significant difference in spending Between Genders. So We can't comment on Who spends more."
      ],
      "metadata": {
        "id": "FKjm3FhR2YMk"
      }
    },
    {
      "cell_type": "markdown",
      "source": [
        "# MARRIED VS UNMARRIED"
      ],
      "metadata": {
        "id": "gXCH36HfExp8"
      }
    },
    {
      "cell_type": "code",
      "source": [
        "average_married_spending = df[df['Marital_Status'] == 1]['Purchase'].mean()\n",
        "average_unmarried_spending = df[df['Marital_Status'] == 0]['Purchase'].mean()\n",
        "\n",
        "print(f\"Average spending for married customers: ${average_married_spending:.2f}\")\n",
        "print(f\"Average spending for unmarried customers: ${average_unmarried_spending:.2f}\")"
      ],
      "metadata": {
        "colab": {
          "base_uri": "https://localhost:8080/"
        },
        "id": "Y0zjgX19Dl8X",
        "outputId": "12595cf3-3ee7-4526-907a-219cb593b2ed"
      },
      "execution_count": null,
      "outputs": [
        {
          "output_type": "stream",
          "name": "stdout",
          "text": [
            "Average spending for married customers: $9261.17\n",
            "Average spending for unmarried customers: $9265.91\n"
          ]
        }
      ]
    },
    {
      "cell_type": "markdown",
      "source": [
        "Average spending is almost same for married vs unmarried."
      ],
      "metadata": {
        "id": "9ve-rmZ32wCD"
      }
    },
    {
      "cell_type": "code",
      "source": [
        "sample_married = df[df['Marital_Status'] == 1]['Purchase']\n",
        "sample_unmarried = df[df['Marital_Status'] == 0]['Purchase']\n",
        "\n",
        "sample_size_married = len(sample_married)\n",
        "sample_size_unmarried = len(sample_unmarried)\n",
        "\n",
        "sample_mean_married = sample_married.mean()\n",
        "sample_mean_unmarried = sample_unmarried.mean()\n",
        "\n",
        "sample_std_married = sample_married.std()\n",
        "sample_std_unmarried = sample_unmarried.std()\n",
        "\n",
        "confidence_level = 0.90\n",
        "z_score = stats.norm.ppf((1 + confidence_level) / 2)\n",
        "\n",
        "margin_of_error_married = z_score * (sample_std_married / np.sqrt(sample_size_married))\n",
        "margin_of_error_unmarried = z_score * (sample_std_unmarried / np.sqrt(sample_size_unmarried))\n",
        "\n",
        "confidence_interval_married = (sample_mean_married - margin_of_error_married, sample_mean_married + margin_of_error_married)\n",
        "confidence_interval_unmarried = (sample_mean_unmarried - margin_of_error_unmarried, sample_mean_unmarried + margin_of_error_unmarried)\n",
        "\n",
        "print(f\"Confidence Interval for Married Spending: {confidence_interval_married}\")\n",
        "print(f\"Confidence Interval for Unmarried Spending: {confidence_interval_unmarried}\")"
      ],
      "metadata": {
        "colab": {
          "base_uri": "https://localhost:8080/"
        },
        "id": "M02XYhItE6c5",
        "outputId": "2f2e2b3b-4c8b-4ebd-d066-7ebe1bbe1d06"
      },
      "execution_count": null,
      "outputs": [
        {
          "output_type": "stream",
          "name": "stdout",
          "text": [
            "Confidence Interval for Married Spending: (9243.790713903045, 9278.558434261702)\n",
            "Confidence Interval for Unmarried Spending: (9251.396385823671, 9280.418852019342)\n"
          ]
        }
      ]
    },
    {
      "cell_type": "code",
      "source": [
        "if confidence_interval_married[1] < confidence_interval_unmarried[0] or confidence_interval_unmarried[1] < confidence_interval_married[0]:\n",
        "    print(\"Confidence intervals do not overlap. There is a significant difference in spending between genders.\")\n",
        "else:\n",
        "    print(\"Confidence intervals overlap. There may not be a significant difference in spending between genders.\")"
      ],
      "metadata": {
        "colab": {
          "base_uri": "https://localhost:8080/"
        },
        "id": "pqQUsyb9FfmF",
        "outputId": "6f3c6d8f-b7c3-4f68-aaed-ac75cde25f28"
      },
      "execution_count": null,
      "outputs": [
        {
          "output_type": "stream",
          "name": "stdout",
          "text": [
            "Confidence intervals overlap. There may not be a significant difference in spending between genders.\n"
          ]
        }
      ]
    },
    {
      "cell_type": "markdown",
      "source": [
        "There is a lot of overlapping . So for married vs unmarried there is no significant difference with only 90% level."
      ],
      "metadata": {
        "id": "CwirRHG-3Dxh"
      }
    },
    {
      "cell_type": "markdown",
      "source": [
        "# AGE\n"
      ],
      "metadata": {
        "id": "ffomV4VYF6v6"
      }
    },
    {
      "cell_type": "code",
      "source": [
        "average_spending_by_age = df.groupby('Age')['Purchase'].mean()\n",
        "print(\"Average spending by age group:\")\n",
        "print(average_spending_by_age)"
      ],
      "metadata": {
        "colab": {
          "base_uri": "https://localhost:8080/"
        },
        "id": "Qm6Tgqi0K09Q",
        "outputId": "a6201b90-12b2-4134-ff31-3183c75494c6"
      },
      "execution_count": null,
      "outputs": [
        {
          "output_type": "stream",
          "name": "stdout",
          "text": [
            "Average spending by age group:\n",
            "Age\n",
            "0-17     8933.464640\n",
            "18-25    9169.663606\n",
            "26-35    9252.690633\n",
            "36-45    9331.350695\n",
            "46-50    9208.625697\n",
            "51-55    9534.808031\n",
            "55+      9336.280459\n",
            "Name: Purchase, dtype: float64\n"
          ]
        }
      ]
    },
    {
      "cell_type": "code",
      "source": [
        "confidence_intervals_by_age = {}\n",
        "confidence_level = 0.95\n",
        "z_score = stats.norm.ppf((1 + confidence_level) / 2)\n",
        "for age_group, group_data in df.groupby('Age'):\n",
        "    sample = group_data['Purchase']\n",
        "    sample_size = len(sample)\n",
        "    sample_mean = sample.mean()\n",
        "    sample_std = sample.std()\n",
        "\n",
        "    margin_of_error = z_score * (sample_std / np.sqrt(sample_size))\n",
        "    confidence_interval = (sample_mean - margin_of_error, sample_mean + margin_of_error)\n",
        "\n",
        "    confidence_intervals_by_age[age_group] = confidence_interval\n",
        "\n",
        "print(\"Confidence Intervals by Age Group:\")\n",
        "\n",
        "for age_group, group_data in df.groupby('Age'):\n",
        "  print(age_group,\"---\",confidence_intervals_by_age[age_group])"
      ],
      "metadata": {
        "colab": {
          "base_uri": "https://localhost:8080/"
        },
        "id": "lvF5RkoyLHul",
        "outputId": "810939d4-1ebd-4524-bf47-0481981a492f"
      },
      "execution_count": null,
      "outputs": [
        {
          "output_type": "stream",
          "name": "stdout",
          "text": [
            "Confidence Intervals by Age Group:\n",
            "0-17 --- (8851.947970542686, 9014.981310347262)\n",
            "18-25 --- (9138.407948753442, 9200.919263769136)\n",
            "26-35 --- (9231.733676400028, 9273.647589339747)\n",
            "36-45 --- (9301.669410965314, 9361.031978870433)\n",
            "46-50 --- (9163.085142648752, 9254.166252287903)\n",
            "51-55 --- (9483.991472776577, 9585.624589143894)\n",
            "55+ --- (9269.29883441773, 9403.262084481079)\n"
          ]
        }
      ]
    },
    {
      "cell_type": "markdown",
      "source": [
        "We can see overlapping intervals in this stats as well.\n",
        "\n",
        "##Insights\n",
        "\n",
        "When there is overlapping in confidence intervals, it suggests that there isn't a statistically significant difference. Here are some business conclusions and implications based on this analysis:\n",
        "\n",
        "1. Gender:\n",
        "\n",
        "Walmart's marketing and product offerings appear to be equally appealing to both genders during Black Friday.\n",
        "Marketing efforts should continue to target a broad audience without specific gender-based strategies.\n",
        "\n",
        "2. Marital Status:\n",
        "\n",
        "Walmart's Black Friday deals attract both married and unmarried customers equally in terms of spending.\n",
        "Marketing strategies should be designed to appeal to a broad range of customers regardless of their marital status.\n",
        "\n",
        "3. Age Groups:\n",
        "\n",
        "Walmart's Black Friday sales seem to attract customers from various age groups with similar spending patterns.\n",
        "Marketing efforts should be focused on a wide age range of customers, acknowledging that different age groups have different preferences.\n",
        "\n",
        "Overall Implications:\n",
        "\n",
        "Walmart can continue to offer a consistent shopping experience during Black Friday, targeting a diverse customer base.\n",
        "While there may not be significant spending differences based on gender, marital status, or age, Walmart should focus on understanding the specific preferences and needs of different customer segments to tailor its marketing and product offerings more effectively.Explore whether there are specific product categories or demographics within each group that could be targeted for improvement.\n",
        "\n"
      ],
      "metadata": {
        "id": "PiXO08f74RQJ"
      }
    },
    {
      "cell_type": "code",
      "source": [],
      "metadata": {
        "id": "sZonF9Nm6GmI"
      },
      "execution_count": null,
      "outputs": []
    }
  ]
}